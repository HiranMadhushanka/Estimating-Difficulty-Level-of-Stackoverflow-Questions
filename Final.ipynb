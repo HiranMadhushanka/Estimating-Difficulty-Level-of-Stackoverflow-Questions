{
  "nbformat": 4,
  "nbformat_minor": 0,
  "metadata": {
    "colab": {
      "name": "Final.ipynb",
      "provenance": [],
      "collapsed_sections": []
    },
    "kernelspec": {
      "display_name": "Python 3",
      "name": "python3"
    },
    "language_info": {
      "name": "python"
    }
  },
  "cells": [
    {
      "cell_type": "markdown",
      "metadata": {
        "id": "YB9IRnZhYjfa"
      },
      "source": [
        "**1. Selecting Dataset**\n",
        "\n",
        "---\n",
        "\n",
        "\n",
        "\n"
      ]
    },
    {
      "cell_type": "code",
      "metadata": {
        "colab": {
          "base_uri": "https://localhost:8080/"
        },
        "id": "tB7OskZ_LSpM",
        "outputId": "4083fa18-18fa-42a8-eb90-09110153ca91"
      },
      "source": [
        "#Mount Google drive\n",
        "from google.colab import drive\n",
        "drive.mount('/content/gdrive')"
      ],
      "execution_count": 1,
      "outputs": [
        {
          "output_type": "stream",
          "text": [
            "Drive already mounted at /content/gdrive; to attempt to forcibly remount, call drive.mount(\"/content/gdrive\", force_remount=True).\n"
          ],
          "name": "stdout"
        }
      ]
    },
    {
      "cell_type": "code",
      "metadata": {
        "id": "oub_PvqWMcJI"
      },
      "source": [
        "#change directory\n",
        "%%capture\n",
        "%cd /content/gdrive/MyDrive/FYP - Team Nova"
      ],
      "execution_count": 2,
      "outputs": []
    },
    {
      "cell_type": "code",
      "metadata": {
        "colab": {
          "base_uri": "https://localhost:8080/"
        },
        "id": "bJIHkaCfMfp5",
        "outputId": "7c6bfc71-fd41-4d2e-8787-214f6b429769"
      },
      "source": [
        "#list files in current directory\n",
        "%ls"
      ],
      "execution_count": 3,
      "outputs": [
        {
          "output_type": "stream",
          "text": [
            " answers.csv    \u001b[0m\u001b[01;34m'Discovery of User Expertise'\u001b[0m/\n",
            " answers.csv.1  \u001b[01;34m'Estimated Time of Answer'\u001b[0m/\n",
            " answers.csv.2  \u001b[01;34m'Question Difficulty Estimation'\u001b[0m/\n",
            " answers.csv.3   save.pkl\n"
          ],
          "name": "stdout"
        }
      ]
    },
    {
      "cell_type": "markdown",
      "metadata": {
        "id": "tJFABbbhY11k"
      },
      "source": [
        "**2. Importing Libraries**"
      ]
    },
    {
      "cell_type": "code",
      "metadata": {
        "id": "lNGjpyiwMhpv"
      },
      "source": [
        "import pandas as pd\n",
        "import numpy as np\n",
        "import matplotlib.pyplot as plt\n",
        "from sklearn.model_selection import train_test_split\n",
        "from sklearn.impute import SimpleImputer\n",
        "from sklearn.preprocessing import LabelEncoder,OneHotEncoder,StandardScaler,MinMaxScaler\n",
        "from sklearn.datasets import make_classification\n",
        "from sklearn.linear_model import LogisticRegression\n",
        "from sklearn.model_selection import train_test_split\n",
        "from sklearn.pipeline import make_pipeline\n",
        "import xml.etree.ElementTree as ET\n",
        "import csv\n",
        "import seaborn as sns\n",
        "from sklearn.cluster import KMeans\n",
        "from sklearn.metrics import silhouette_score, silhouette_samples\n",
        "import matplotlib.cm as cm\n",
        "import pickle"
      ],
      "execution_count": 4,
      "outputs": []
    },
    {
      "cell_type": "code",
      "metadata": {
        "id": "ucwfiTa5Smh-"
      },
      "source": [
        "#downloading dataset into google drive\n",
        "# !wget https://www.ics.uci.edu/~duboisc/stackoverflow/answers.csv"
      ],
      "execution_count": 5,
      "outputs": []
    },
    {
      "cell_type": "code",
      "metadata": {
        "colab": {
          "base_uri": "https://localhost:8080/",
          "height": 414
        },
        "id": "aGGIorTCTNUe",
        "outputId": "2a892c7d-ee5f-4a4d-a985-bb2d28462b79"
      },
      "source": [
        "#read dataset into pandas dataframe\n",
        "dataset = pd.read_csv('answers.csv').drop(['Unnamed: 0'],axis=1)\n",
        "dataset"
      ],
      "execution_count": 6,
      "outputs": [
        {
          "output_type": "execute_result",
          "data": {
            "text/html": [
              "<div>\n",
              "<style scoped>\n",
              "    .dataframe tbody tr th:only-of-type {\n",
              "        vertical-align: middle;\n",
              "    }\n",
              "\n",
              "    .dataframe tbody tr th {\n",
              "        vertical-align: top;\n",
              "    }\n",
              "\n",
              "    .dataframe thead th {\n",
              "        text-align: right;\n",
              "    }\n",
              "</style>\n",
              "<table border=\"1\" class=\"dataframe\">\n",
              "  <thead>\n",
              "    <tr style=\"text-align: right;\">\n",
              "      <th></th>\n",
              "      <th>qid</th>\n",
              "      <th>i</th>\n",
              "      <th>qs</th>\n",
              "      <th>qt</th>\n",
              "      <th>tags</th>\n",
              "      <th>qvc</th>\n",
              "      <th>qac</th>\n",
              "      <th>aid</th>\n",
              "      <th>j</th>\n",
              "      <th>as</th>\n",
              "      <th>at</th>\n",
              "    </tr>\n",
              "  </thead>\n",
              "  <tbody>\n",
              "    <tr>\n",
              "      <th>0</th>\n",
              "      <td>563355</td>\n",
              "      <td>62701.0</td>\n",
              "      <td>0</td>\n",
              "      <td>1235000081</td>\n",
              "      <td>php,error,gd,image-processing</td>\n",
              "      <td>220</td>\n",
              "      <td>2</td>\n",
              "      <td>563372</td>\n",
              "      <td>67183.0</td>\n",
              "      <td>2</td>\n",
              "      <td>1235000501</td>\n",
              "    </tr>\n",
              "    <tr>\n",
              "      <th>1</th>\n",
              "      <td>563355</td>\n",
              "      <td>62701.0</td>\n",
              "      <td>0</td>\n",
              "      <td>1235000081</td>\n",
              "      <td>php,error,gd,image-processing</td>\n",
              "      <td>220</td>\n",
              "      <td>2</td>\n",
              "      <td>563374</td>\n",
              "      <td>66554.0</td>\n",
              "      <td>0</td>\n",
              "      <td>1235000551</td>\n",
              "    </tr>\n",
              "    <tr>\n",
              "      <th>2</th>\n",
              "      <td>563356</td>\n",
              "      <td>15842.0</td>\n",
              "      <td>10</td>\n",
              "      <td>1235000140</td>\n",
              "      <td>lisp,scheme,subjective,clojure</td>\n",
              "      <td>1047</td>\n",
              "      <td>16</td>\n",
              "      <td>563358</td>\n",
              "      <td>15842.0</td>\n",
              "      <td>3</td>\n",
              "      <td>1235000177</td>\n",
              "    </tr>\n",
              "    <tr>\n",
              "      <th>3</th>\n",
              "      <td>563356</td>\n",
              "      <td>15842.0</td>\n",
              "      <td>10</td>\n",
              "      <td>1235000140</td>\n",
              "      <td>lisp,scheme,subjective,clojure</td>\n",
              "      <td>1047</td>\n",
              "      <td>16</td>\n",
              "      <td>563413</td>\n",
              "      <td>893.0</td>\n",
              "      <td>18</td>\n",
              "      <td>1235001545</td>\n",
              "    </tr>\n",
              "    <tr>\n",
              "      <th>4</th>\n",
              "      <td>563356</td>\n",
              "      <td>15842.0</td>\n",
              "      <td>10</td>\n",
              "      <td>1235000140</td>\n",
              "      <td>lisp,scheme,subjective,clojure</td>\n",
              "      <td>1047</td>\n",
              "      <td>16</td>\n",
              "      <td>563454</td>\n",
              "      <td>11649.0</td>\n",
              "      <td>4</td>\n",
              "      <td>1235002457</td>\n",
              "    </tr>\n",
              "    <tr>\n",
              "      <th>...</th>\n",
              "      <td>...</td>\n",
              "      <td>...</td>\n",
              "      <td>...</td>\n",
              "      <td>...</td>\n",
              "      <td>...</td>\n",
              "      <td>...</td>\n",
              "      <td>...</td>\n",
              "      <td>...</td>\n",
              "      <td>...</td>\n",
              "      <td>...</td>\n",
              "      <td>...</td>\n",
              "    </tr>\n",
              "    <tr>\n",
              "      <th>263535</th>\n",
              "      <td>961412</td>\n",
              "      <td>117069.0</td>\n",
              "      <td>0</td>\n",
              "      <td>1244359898</td>\n",
              "      <td>c#,string-manipulation</td>\n",
              "      <td>26</td>\n",
              "      <td>2</td>\n",
              "      <td>961415</td>\n",
              "      <td>22656.0</td>\n",
              "      <td>2</td>\n",
              "      <td>1244360077</td>\n",
              "    </tr>\n",
              "    <tr>\n",
              "      <th>263536</th>\n",
              "      <td>961412</td>\n",
              "      <td>117069.0</td>\n",
              "      <td>0</td>\n",
              "      <td>1244359898</td>\n",
              "      <td>c#,string-manipulation</td>\n",
              "      <td>26</td>\n",
              "      <td>2</td>\n",
              "      <td>961421</td>\n",
              "      <td>3712.0</td>\n",
              "      <td>1</td>\n",
              "      <td>1244360250</td>\n",
              "    </tr>\n",
              "    <tr>\n",
              "      <th>263537</th>\n",
              "      <td>961416</td>\n",
              "      <td>63225.0</td>\n",
              "      <td>2</td>\n",
              "      <td>1244360143</td>\n",
              "      <td>ûnet,msil,history</td>\n",
              "      <td>42</td>\n",
              "      <td>2</td>\n",
              "      <td>961428</td>\n",
              "      <td>22656.0</td>\n",
              "      <td>2</td>\n",
              "      <td>1244360525</td>\n",
              "    </tr>\n",
              "    <tr>\n",
              "      <th>263538</th>\n",
              "      <td>961416</td>\n",
              "      <td>63225.0</td>\n",
              "      <td>2</td>\n",
              "      <td>1244360143</td>\n",
              "      <td>ûnet,msil,history</td>\n",
              "      <td>42</td>\n",
              "      <td>2</td>\n",
              "      <td>961443</td>\n",
              "      <td>110945.0</td>\n",
              "      <td>0</td>\n",
              "      <td>1244361172</td>\n",
              "    </tr>\n",
              "    <tr>\n",
              "      <th>263539</th>\n",
              "      <td>961459</td>\n",
              "      <td>33584.0</td>\n",
              "      <td>0</td>\n",
              "      <td>1244361919</td>\n",
              "      <td>css</td>\n",
              "      <td>5</td>\n",
              "      <td>1</td>\n",
              "      <td>961462</td>\n",
              "      <td>23590.0</td>\n",
              "      <td>0</td>\n",
              "      <td>1244362060</td>\n",
              "    </tr>\n",
              "  </tbody>\n",
              "</table>\n",
              "<p>263540 rows × 11 columns</p>\n",
              "</div>"
            ],
            "text/plain": [
              "           qid         i  qs          qt  ...     aid         j  as          at\n",
              "0       563355   62701.0   0  1235000081  ...  563372   67183.0   2  1235000501\n",
              "1       563355   62701.0   0  1235000081  ...  563374   66554.0   0  1235000551\n",
              "2       563356   15842.0  10  1235000140  ...  563358   15842.0   3  1235000177\n",
              "3       563356   15842.0  10  1235000140  ...  563413     893.0  18  1235001545\n",
              "4       563356   15842.0  10  1235000140  ...  563454   11649.0   4  1235002457\n",
              "...        ...       ...  ..         ...  ...     ...       ...  ..         ...\n",
              "263535  961412  117069.0   0  1244359898  ...  961415   22656.0   2  1244360077\n",
              "263536  961412  117069.0   0  1244359898  ...  961421    3712.0   1  1244360250\n",
              "263537  961416   63225.0   2  1244360143  ...  961428   22656.0   2  1244360525\n",
              "263538  961416   63225.0   2  1244360143  ...  961443  110945.0   0  1244361172\n",
              "263539  961459   33584.0   0  1244361919  ...  961462   23590.0   0  1244362060\n",
              "\n",
              "[263540 rows x 11 columns]"
            ]
          },
          "metadata": {
            "tags": []
          },
          "execution_count": 6
        }
      ]
    },
    {
      "cell_type": "markdown",
      "metadata": {
        "id": "X0NLCBUwZHLm"
      },
      "source": [
        "**3. Data Preprocessig**\n",
        "\n",
        "---\n",
        "\n"
      ]
    },
    {
      "cell_type": "code",
      "metadata": {
        "id": "VJv52OvyTRVl"
      },
      "source": [
        "#rename column headers\n",
        "dataset = dataset.rename(columns={\n",
        "                 'qid': 'QuestionId',\n",
        "                 'aid' : 'AnswerId',\n",
        "                 'i' : 'QuestionerId',\n",
        "                 'j' : 'AnswererId',\n",
        "                 'qt' : 'TimeOfQuestion',\n",
        "                 'qs' : 'ScoreOfQuestion',\n",
        "                 'tags': 'Tags',\n",
        "                 'qvc': 'ViewCount',\n",
        "                 'qac': 'NoOfAnswers',\n",
        "                 'as' : 'ScoreOfAnswer',\n",
        "                 'at' : 'TimeOfAnswer'\n",
        "                 })"
      ],
      "execution_count": 7,
      "outputs": []
    },
    {
      "cell_type": "code",
      "metadata": {
        "colab": {
          "base_uri": "https://localhost:8080/",
          "height": 414
        },
        "id": "CBlHCk4iTdEW",
        "outputId": "e0db05b0-1b4e-43f1-d385-0e69680e9b55"
      },
      "source": [
        "#show dataset\n",
        "dataset"
      ],
      "execution_count": 8,
      "outputs": [
        {
          "output_type": "execute_result",
          "data": {
            "text/html": [
              "<div>\n",
              "<style scoped>\n",
              "    .dataframe tbody tr th:only-of-type {\n",
              "        vertical-align: middle;\n",
              "    }\n",
              "\n",
              "    .dataframe tbody tr th {\n",
              "        vertical-align: top;\n",
              "    }\n",
              "\n",
              "    .dataframe thead th {\n",
              "        text-align: right;\n",
              "    }\n",
              "</style>\n",
              "<table border=\"1\" class=\"dataframe\">\n",
              "  <thead>\n",
              "    <tr style=\"text-align: right;\">\n",
              "      <th></th>\n",
              "      <th>QuestionId</th>\n",
              "      <th>QuestionerId</th>\n",
              "      <th>ScoreOfQuestion</th>\n",
              "      <th>TimeOfQuestion</th>\n",
              "      <th>Tags</th>\n",
              "      <th>ViewCount</th>\n",
              "      <th>NoOfAnswers</th>\n",
              "      <th>AnswerId</th>\n",
              "      <th>AnswererId</th>\n",
              "      <th>ScoreOfAnswer</th>\n",
              "      <th>TimeOfAnswer</th>\n",
              "    </tr>\n",
              "  </thead>\n",
              "  <tbody>\n",
              "    <tr>\n",
              "      <th>0</th>\n",
              "      <td>563355</td>\n",
              "      <td>62701.0</td>\n",
              "      <td>0</td>\n",
              "      <td>1235000081</td>\n",
              "      <td>php,error,gd,image-processing</td>\n",
              "      <td>220</td>\n",
              "      <td>2</td>\n",
              "      <td>563372</td>\n",
              "      <td>67183.0</td>\n",
              "      <td>2</td>\n",
              "      <td>1235000501</td>\n",
              "    </tr>\n",
              "    <tr>\n",
              "      <th>1</th>\n",
              "      <td>563355</td>\n",
              "      <td>62701.0</td>\n",
              "      <td>0</td>\n",
              "      <td>1235000081</td>\n",
              "      <td>php,error,gd,image-processing</td>\n",
              "      <td>220</td>\n",
              "      <td>2</td>\n",
              "      <td>563374</td>\n",
              "      <td>66554.0</td>\n",
              "      <td>0</td>\n",
              "      <td>1235000551</td>\n",
              "    </tr>\n",
              "    <tr>\n",
              "      <th>2</th>\n",
              "      <td>563356</td>\n",
              "      <td>15842.0</td>\n",
              "      <td>10</td>\n",
              "      <td>1235000140</td>\n",
              "      <td>lisp,scheme,subjective,clojure</td>\n",
              "      <td>1047</td>\n",
              "      <td>16</td>\n",
              "      <td>563358</td>\n",
              "      <td>15842.0</td>\n",
              "      <td>3</td>\n",
              "      <td>1235000177</td>\n",
              "    </tr>\n",
              "    <tr>\n",
              "      <th>3</th>\n",
              "      <td>563356</td>\n",
              "      <td>15842.0</td>\n",
              "      <td>10</td>\n",
              "      <td>1235000140</td>\n",
              "      <td>lisp,scheme,subjective,clojure</td>\n",
              "      <td>1047</td>\n",
              "      <td>16</td>\n",
              "      <td>563413</td>\n",
              "      <td>893.0</td>\n",
              "      <td>18</td>\n",
              "      <td>1235001545</td>\n",
              "    </tr>\n",
              "    <tr>\n",
              "      <th>4</th>\n",
              "      <td>563356</td>\n",
              "      <td>15842.0</td>\n",
              "      <td>10</td>\n",
              "      <td>1235000140</td>\n",
              "      <td>lisp,scheme,subjective,clojure</td>\n",
              "      <td>1047</td>\n",
              "      <td>16</td>\n",
              "      <td>563454</td>\n",
              "      <td>11649.0</td>\n",
              "      <td>4</td>\n",
              "      <td>1235002457</td>\n",
              "    </tr>\n",
              "    <tr>\n",
              "      <th>...</th>\n",
              "      <td>...</td>\n",
              "      <td>...</td>\n",
              "      <td>...</td>\n",
              "      <td>...</td>\n",
              "      <td>...</td>\n",
              "      <td>...</td>\n",
              "      <td>...</td>\n",
              "      <td>...</td>\n",
              "      <td>...</td>\n",
              "      <td>...</td>\n",
              "      <td>...</td>\n",
              "    </tr>\n",
              "    <tr>\n",
              "      <th>263535</th>\n",
              "      <td>961412</td>\n",
              "      <td>117069.0</td>\n",
              "      <td>0</td>\n",
              "      <td>1244359898</td>\n",
              "      <td>c#,string-manipulation</td>\n",
              "      <td>26</td>\n",
              "      <td>2</td>\n",
              "      <td>961415</td>\n",
              "      <td>22656.0</td>\n",
              "      <td>2</td>\n",
              "      <td>1244360077</td>\n",
              "    </tr>\n",
              "    <tr>\n",
              "      <th>263536</th>\n",
              "      <td>961412</td>\n",
              "      <td>117069.0</td>\n",
              "      <td>0</td>\n",
              "      <td>1244359898</td>\n",
              "      <td>c#,string-manipulation</td>\n",
              "      <td>26</td>\n",
              "      <td>2</td>\n",
              "      <td>961421</td>\n",
              "      <td>3712.0</td>\n",
              "      <td>1</td>\n",
              "      <td>1244360250</td>\n",
              "    </tr>\n",
              "    <tr>\n",
              "      <th>263537</th>\n",
              "      <td>961416</td>\n",
              "      <td>63225.0</td>\n",
              "      <td>2</td>\n",
              "      <td>1244360143</td>\n",
              "      <td>ûnet,msil,history</td>\n",
              "      <td>42</td>\n",
              "      <td>2</td>\n",
              "      <td>961428</td>\n",
              "      <td>22656.0</td>\n",
              "      <td>2</td>\n",
              "      <td>1244360525</td>\n",
              "    </tr>\n",
              "    <tr>\n",
              "      <th>263538</th>\n",
              "      <td>961416</td>\n",
              "      <td>63225.0</td>\n",
              "      <td>2</td>\n",
              "      <td>1244360143</td>\n",
              "      <td>ûnet,msil,history</td>\n",
              "      <td>42</td>\n",
              "      <td>2</td>\n",
              "      <td>961443</td>\n",
              "      <td>110945.0</td>\n",
              "      <td>0</td>\n",
              "      <td>1244361172</td>\n",
              "    </tr>\n",
              "    <tr>\n",
              "      <th>263539</th>\n",
              "      <td>961459</td>\n",
              "      <td>33584.0</td>\n",
              "      <td>0</td>\n",
              "      <td>1244361919</td>\n",
              "      <td>css</td>\n",
              "      <td>5</td>\n",
              "      <td>1</td>\n",
              "      <td>961462</td>\n",
              "      <td>23590.0</td>\n",
              "      <td>0</td>\n",
              "      <td>1244362060</td>\n",
              "    </tr>\n",
              "  </tbody>\n",
              "</table>\n",
              "<p>263540 rows × 11 columns</p>\n",
              "</div>"
            ],
            "text/plain": [
              "        QuestionId  QuestionerId  ...  ScoreOfAnswer  TimeOfAnswer\n",
              "0           563355       62701.0  ...              2    1235000501\n",
              "1           563355       62701.0  ...              0    1235000551\n",
              "2           563356       15842.0  ...              3    1235000177\n",
              "3           563356       15842.0  ...             18    1235001545\n",
              "4           563356       15842.0  ...              4    1235002457\n",
              "...            ...           ...  ...            ...           ...\n",
              "263535      961412      117069.0  ...              2    1244360077\n",
              "263536      961412      117069.0  ...              1    1244360250\n",
              "263537      961416       63225.0  ...              2    1244360525\n",
              "263538      961416       63225.0  ...              0    1244361172\n",
              "263539      961459       33584.0  ...              0    1244362060\n",
              "\n",
              "[263540 rows x 11 columns]"
            ]
          },
          "metadata": {
            "tags": []
          },
          "execution_count": 8
        }
      ]
    },
    {
      "cell_type": "code",
      "metadata": {
        "colab": {
          "base_uri": "https://localhost:8080/",
          "height": 202
        },
        "id": "9hARk1G4Tu49",
        "outputId": "cdb7683a-761f-4c52-a712-cd92301fc0f1"
      },
      "source": [
        "#remove unwanted columns\n",
        "dataset = dataset.drop(columns=['QuestionerId','TimeOfQuestion','AnswererId','AnswerId','Tags'])\n",
        "dataset.head()"
      ],
      "execution_count": 9,
      "outputs": [
        {
          "output_type": "execute_result",
          "data": {
            "text/html": [
              "<div>\n",
              "<style scoped>\n",
              "    .dataframe tbody tr th:only-of-type {\n",
              "        vertical-align: middle;\n",
              "    }\n",
              "\n",
              "    .dataframe tbody tr th {\n",
              "        vertical-align: top;\n",
              "    }\n",
              "\n",
              "    .dataframe thead th {\n",
              "        text-align: right;\n",
              "    }\n",
              "</style>\n",
              "<table border=\"1\" class=\"dataframe\">\n",
              "  <thead>\n",
              "    <tr style=\"text-align: right;\">\n",
              "      <th></th>\n",
              "      <th>QuestionId</th>\n",
              "      <th>ScoreOfQuestion</th>\n",
              "      <th>ViewCount</th>\n",
              "      <th>NoOfAnswers</th>\n",
              "      <th>ScoreOfAnswer</th>\n",
              "      <th>TimeOfAnswer</th>\n",
              "    </tr>\n",
              "  </thead>\n",
              "  <tbody>\n",
              "    <tr>\n",
              "      <th>0</th>\n",
              "      <td>563355</td>\n",
              "      <td>0</td>\n",
              "      <td>220</td>\n",
              "      <td>2</td>\n",
              "      <td>2</td>\n",
              "      <td>1235000501</td>\n",
              "    </tr>\n",
              "    <tr>\n",
              "      <th>1</th>\n",
              "      <td>563355</td>\n",
              "      <td>0</td>\n",
              "      <td>220</td>\n",
              "      <td>2</td>\n",
              "      <td>0</td>\n",
              "      <td>1235000551</td>\n",
              "    </tr>\n",
              "    <tr>\n",
              "      <th>2</th>\n",
              "      <td>563356</td>\n",
              "      <td>10</td>\n",
              "      <td>1047</td>\n",
              "      <td>16</td>\n",
              "      <td>3</td>\n",
              "      <td>1235000177</td>\n",
              "    </tr>\n",
              "    <tr>\n",
              "      <th>3</th>\n",
              "      <td>563356</td>\n",
              "      <td>10</td>\n",
              "      <td>1047</td>\n",
              "      <td>16</td>\n",
              "      <td>18</td>\n",
              "      <td>1235001545</td>\n",
              "    </tr>\n",
              "    <tr>\n",
              "      <th>4</th>\n",
              "      <td>563356</td>\n",
              "      <td>10</td>\n",
              "      <td>1047</td>\n",
              "      <td>16</td>\n",
              "      <td>4</td>\n",
              "      <td>1235002457</td>\n",
              "    </tr>\n",
              "  </tbody>\n",
              "</table>\n",
              "</div>"
            ],
            "text/plain": [
              "   QuestionId  ScoreOfQuestion  ...  ScoreOfAnswer  TimeOfAnswer\n",
              "0      563355                0  ...              2    1235000501\n",
              "1      563355                0  ...              0    1235000551\n",
              "2      563356               10  ...              3    1235000177\n",
              "3      563356               10  ...             18    1235001545\n",
              "4      563356               10  ...              4    1235002457\n",
              "\n",
              "[5 rows x 6 columns]"
            ]
          },
          "metadata": {
            "tags": []
          },
          "execution_count": 9
        }
      ]
    },
    {
      "cell_type": "code",
      "metadata": {
        "colab": {
          "base_uri": "https://localhost:8080/",
          "height": 202
        },
        "id": "fuH-mxPzT3xd",
        "outputId": "2479c84c-01bc-4831-9eb8-46858c16855d"
      },
      "source": [
        "#find time and score of first answer by group by QuestionId\n",
        "grouped_df = dataset.groupby('QuestionId')\n",
        "minimums = grouped_df.min();\n",
        "dataset = minimums.reset_index()\n",
        "dataset.head()"
      ],
      "execution_count": 10,
      "outputs": [
        {
          "output_type": "execute_result",
          "data": {
            "text/html": [
              "<div>\n",
              "<style scoped>\n",
              "    .dataframe tbody tr th:only-of-type {\n",
              "        vertical-align: middle;\n",
              "    }\n",
              "\n",
              "    .dataframe tbody tr th {\n",
              "        vertical-align: top;\n",
              "    }\n",
              "\n",
              "    .dataframe thead th {\n",
              "        text-align: right;\n",
              "    }\n",
              "</style>\n",
              "<table border=\"1\" class=\"dataframe\">\n",
              "  <thead>\n",
              "    <tr style=\"text-align: right;\">\n",
              "      <th></th>\n",
              "      <th>QuestionId</th>\n",
              "      <th>ScoreOfQuestion</th>\n",
              "      <th>ViewCount</th>\n",
              "      <th>NoOfAnswers</th>\n",
              "      <th>ScoreOfAnswer</th>\n",
              "      <th>TimeOfAnswer</th>\n",
              "    </tr>\n",
              "  </thead>\n",
              "  <tbody>\n",
              "    <tr>\n",
              "      <th>0</th>\n",
              "      <td>563355</td>\n",
              "      <td>0</td>\n",
              "      <td>220</td>\n",
              "      <td>2</td>\n",
              "      <td>0</td>\n",
              "      <td>1235000501</td>\n",
              "    </tr>\n",
              "    <tr>\n",
              "      <th>1</th>\n",
              "      <td>563356</td>\n",
              "      <td>10</td>\n",
              "      <td>1047</td>\n",
              "      <td>16</td>\n",
              "      <td>0</td>\n",
              "      <td>1235000177</td>\n",
              "    </tr>\n",
              "    <tr>\n",
              "      <th>2</th>\n",
              "      <td>563365</td>\n",
              "      <td>0</td>\n",
              "      <td>108</td>\n",
              "      <td>3</td>\n",
              "      <td>0</td>\n",
              "      <td>1235000573</td>\n",
              "    </tr>\n",
              "    <tr>\n",
              "      <th>3</th>\n",
              "      <td>563366</td>\n",
              "      <td>0</td>\n",
              "      <td>179</td>\n",
              "      <td>1</td>\n",
              "      <td>1</td>\n",
              "      <td>1235003300</td>\n",
              "    </tr>\n",
              "    <tr>\n",
              "      <th>4</th>\n",
              "      <td>563367</td>\n",
              "      <td>0</td>\n",
              "      <td>247</td>\n",
              "      <td>2</td>\n",
              "      <td>1</td>\n",
              "      <td>1235056128</td>\n",
              "    </tr>\n",
              "  </tbody>\n",
              "</table>\n",
              "</div>"
            ],
            "text/plain": [
              "   QuestionId  ScoreOfQuestion  ...  ScoreOfAnswer  TimeOfAnswer\n",
              "0      563355                0  ...              0    1235000501\n",
              "1      563356               10  ...              0    1235000177\n",
              "2      563365                0  ...              0    1235000573\n",
              "3      563366                0  ...              1    1235003300\n",
              "4      563367                0  ...              1    1235056128\n",
              "\n",
              "[5 rows x 6 columns]"
            ]
          },
          "metadata": {
            "tags": []
          },
          "execution_count": 10
        }
      ]
    },
    {
      "cell_type": "code",
      "metadata": {
        "colab": {
          "base_uri": "https://localhost:8080/",
          "height": 202
        },
        "id": "WEcEFzzYUMCu",
        "outputId": "adfd6cac-c98a-4d1b-fb87-bf7f4b47557e"
      },
      "source": [
        "#Reanme column headers of time and score of first answer\n",
        "dataset = dataset.rename(columns={\n",
        "                 'TimeOfAnswer' : 'FirstResponseTimeToTheQuestion',\n",
        "                 'ScoreOfAnswer' : 'ScoreOfTheFirstAnswer'\n",
        "                 })\n",
        "dataset.head()"
      ],
      "execution_count": 11,
      "outputs": [
        {
          "output_type": "execute_result",
          "data": {
            "text/html": [
              "<div>\n",
              "<style scoped>\n",
              "    .dataframe tbody tr th:only-of-type {\n",
              "        vertical-align: middle;\n",
              "    }\n",
              "\n",
              "    .dataframe tbody tr th {\n",
              "        vertical-align: top;\n",
              "    }\n",
              "\n",
              "    .dataframe thead th {\n",
              "        text-align: right;\n",
              "    }\n",
              "</style>\n",
              "<table border=\"1\" class=\"dataframe\">\n",
              "  <thead>\n",
              "    <tr style=\"text-align: right;\">\n",
              "      <th></th>\n",
              "      <th>QuestionId</th>\n",
              "      <th>ScoreOfQuestion</th>\n",
              "      <th>ViewCount</th>\n",
              "      <th>NoOfAnswers</th>\n",
              "      <th>ScoreOfTheFirstAnswer</th>\n",
              "      <th>FirstResponseTimeToTheQuestion</th>\n",
              "    </tr>\n",
              "  </thead>\n",
              "  <tbody>\n",
              "    <tr>\n",
              "      <th>0</th>\n",
              "      <td>563355</td>\n",
              "      <td>0</td>\n",
              "      <td>220</td>\n",
              "      <td>2</td>\n",
              "      <td>0</td>\n",
              "      <td>1235000501</td>\n",
              "    </tr>\n",
              "    <tr>\n",
              "      <th>1</th>\n",
              "      <td>563356</td>\n",
              "      <td>10</td>\n",
              "      <td>1047</td>\n",
              "      <td>16</td>\n",
              "      <td>0</td>\n",
              "      <td>1235000177</td>\n",
              "    </tr>\n",
              "    <tr>\n",
              "      <th>2</th>\n",
              "      <td>563365</td>\n",
              "      <td>0</td>\n",
              "      <td>108</td>\n",
              "      <td>3</td>\n",
              "      <td>0</td>\n",
              "      <td>1235000573</td>\n",
              "    </tr>\n",
              "    <tr>\n",
              "      <th>3</th>\n",
              "      <td>563366</td>\n",
              "      <td>0</td>\n",
              "      <td>179</td>\n",
              "      <td>1</td>\n",
              "      <td>1</td>\n",
              "      <td>1235003300</td>\n",
              "    </tr>\n",
              "    <tr>\n",
              "      <th>4</th>\n",
              "      <td>563367</td>\n",
              "      <td>0</td>\n",
              "      <td>247</td>\n",
              "      <td>2</td>\n",
              "      <td>1</td>\n",
              "      <td>1235056128</td>\n",
              "    </tr>\n",
              "  </tbody>\n",
              "</table>\n",
              "</div>"
            ],
            "text/plain": [
              "   QuestionId  ...  FirstResponseTimeToTheQuestion\n",
              "0      563355  ...                      1235000501\n",
              "1      563356  ...                      1235000177\n",
              "2      563365  ...                      1235000573\n",
              "3      563366  ...                      1235003300\n",
              "4      563367  ...                      1235056128\n",
              "\n",
              "[5 rows x 6 columns]"
            ]
          },
          "metadata": {
            "tags": []
          },
          "execution_count": 11
        }
      ]
    },
    {
      "cell_type": "code",
      "metadata": {
        "id": "NZ78c7cYXNGU"
      },
      "source": [
        "#feature list\n",
        "features = ['ScoreOfQuestion','ViewCount','NoOfAnswers','ScoreOfTheFirstAnswer','FirstResponseTimeToTheQuestion']"
      ],
      "execution_count": 12,
      "outputs": []
    },
    {
      "cell_type": "code",
      "metadata": {
        "id": "BIH6NIfKXWJr"
      },
      "source": [
        "#get dataset only with features\n",
        "dataset = dataset[features]"
      ],
      "execution_count": 13,
      "outputs": []
    },
    {
      "cell_type": "code",
      "metadata": {
        "colab": {
          "base_uri": "https://localhost:8080/",
          "height": 202
        },
        "id": "PNmBFUMkY9Sk",
        "outputId": "60985120-34a5-433b-f563-3c2ec76c6383"
      },
      "source": [
        "#show dataset\n",
        "dataset.head()"
      ],
      "execution_count": 14,
      "outputs": [
        {
          "output_type": "execute_result",
          "data": {
            "text/html": [
              "<div>\n",
              "<style scoped>\n",
              "    .dataframe tbody tr th:only-of-type {\n",
              "        vertical-align: middle;\n",
              "    }\n",
              "\n",
              "    .dataframe tbody tr th {\n",
              "        vertical-align: top;\n",
              "    }\n",
              "\n",
              "    .dataframe thead th {\n",
              "        text-align: right;\n",
              "    }\n",
              "</style>\n",
              "<table border=\"1\" class=\"dataframe\">\n",
              "  <thead>\n",
              "    <tr style=\"text-align: right;\">\n",
              "      <th></th>\n",
              "      <th>ScoreOfQuestion</th>\n",
              "      <th>ViewCount</th>\n",
              "      <th>NoOfAnswers</th>\n",
              "      <th>ScoreOfTheFirstAnswer</th>\n",
              "      <th>FirstResponseTimeToTheQuestion</th>\n",
              "    </tr>\n",
              "  </thead>\n",
              "  <tbody>\n",
              "    <tr>\n",
              "      <th>0</th>\n",
              "      <td>0</td>\n",
              "      <td>220</td>\n",
              "      <td>2</td>\n",
              "      <td>0</td>\n",
              "      <td>1235000501</td>\n",
              "    </tr>\n",
              "    <tr>\n",
              "      <th>1</th>\n",
              "      <td>10</td>\n",
              "      <td>1047</td>\n",
              "      <td>16</td>\n",
              "      <td>0</td>\n",
              "      <td>1235000177</td>\n",
              "    </tr>\n",
              "    <tr>\n",
              "      <th>2</th>\n",
              "      <td>0</td>\n",
              "      <td>108</td>\n",
              "      <td>3</td>\n",
              "      <td>0</td>\n",
              "      <td>1235000573</td>\n",
              "    </tr>\n",
              "    <tr>\n",
              "      <th>3</th>\n",
              "      <td>0</td>\n",
              "      <td>179</td>\n",
              "      <td>1</td>\n",
              "      <td>1</td>\n",
              "      <td>1235003300</td>\n",
              "    </tr>\n",
              "    <tr>\n",
              "      <th>4</th>\n",
              "      <td>0</td>\n",
              "      <td>247</td>\n",
              "      <td>2</td>\n",
              "      <td>1</td>\n",
              "      <td>1235056128</td>\n",
              "    </tr>\n",
              "  </tbody>\n",
              "</table>\n",
              "</div>"
            ],
            "text/plain": [
              "   ScoreOfQuestion  ...  FirstResponseTimeToTheQuestion\n",
              "0                0  ...                      1235000501\n",
              "1               10  ...                      1235000177\n",
              "2                0  ...                      1235000573\n",
              "3                0  ...                      1235003300\n",
              "4                0  ...                      1235056128\n",
              "\n",
              "[5 rows x 5 columns]"
            ]
          },
          "metadata": {
            "tags": []
          },
          "execution_count": 14
        }
      ]
    },
    {
      "cell_type": "markdown",
      "metadata": {
        "id": "JMTzwfR2bJY3"
      },
      "source": [
        "3.2 Handling Missing values\n",
        "\n",
        "---\n",
        "\n"
      ]
    },
    {
      "cell_type": "code",
      "metadata": {
        "colab": {
          "base_uri": "https://localhost:8080/"
        },
        "id": "-UURN37tZDSE",
        "outputId": "4fb89c2d-1838-461b-c6f8-84fd80cde6f9"
      },
      "source": [
        "#check for null values\n",
        "null_columns = dataset.columns[dataset.isnull().any()]\n",
        "sum(dataset[null_columns].isnull().sum())"
      ],
      "execution_count": 15,
      "outputs": [
        {
          "output_type": "execute_result",
          "data": {
            "text/plain": [
              "0"
            ]
          },
          "metadata": {
            "tags": []
          },
          "execution_count": 15
        }
      ]
    },
    {
      "cell_type": "code",
      "metadata": {
        "colab": {
          "base_uri": "https://localhost:8080/"
        },
        "id": "tUTg_XLUZ6IE",
        "outputId": "493639ef-c495-4114-ec9e-de9e10ecf732"
      },
      "source": [
        "#check for zero values\n",
        "sum((dataset[[\"ViewCount\",\"NoOfAnswers\",\"FirstResponseTimeToTheQuestion\"]]==0).sum())"
      ],
      "execution_count": 16,
      "outputs": [
        {
          "output_type": "execute_result",
          "data": {
            "text/plain": [
              "0"
            ]
          },
          "metadata": {
            "tags": []
          },
          "execution_count": 16
        }
      ]
    },
    {
      "cell_type": "code",
      "metadata": {
        "colab": {
          "base_uri": "https://localhost:8080/",
          "height": 202
        },
        "id": "wQMVa_GpaCvj",
        "outputId": "c87a5840-fa5c-4499-bce5-9f0caff4b39e"
      },
      "source": [
        "#round first response time for the question\n",
        "dataset['FirstResponseTimeToTheQuestion'] = dataset['FirstResponseTimeToTheQuestion'].div(10000000).round(2)\n",
        "dataset.head()"
      ],
      "execution_count": 17,
      "outputs": [
        {
          "output_type": "execute_result",
          "data": {
            "text/html": [
              "<div>\n",
              "<style scoped>\n",
              "    .dataframe tbody tr th:only-of-type {\n",
              "        vertical-align: middle;\n",
              "    }\n",
              "\n",
              "    .dataframe tbody tr th {\n",
              "        vertical-align: top;\n",
              "    }\n",
              "\n",
              "    .dataframe thead th {\n",
              "        text-align: right;\n",
              "    }\n",
              "</style>\n",
              "<table border=\"1\" class=\"dataframe\">\n",
              "  <thead>\n",
              "    <tr style=\"text-align: right;\">\n",
              "      <th></th>\n",
              "      <th>ScoreOfQuestion</th>\n",
              "      <th>ViewCount</th>\n",
              "      <th>NoOfAnswers</th>\n",
              "      <th>ScoreOfTheFirstAnswer</th>\n",
              "      <th>FirstResponseTimeToTheQuestion</th>\n",
              "    </tr>\n",
              "  </thead>\n",
              "  <tbody>\n",
              "    <tr>\n",
              "      <th>0</th>\n",
              "      <td>0</td>\n",
              "      <td>220</td>\n",
              "      <td>2</td>\n",
              "      <td>0</td>\n",
              "      <td>123.50</td>\n",
              "    </tr>\n",
              "    <tr>\n",
              "      <th>1</th>\n",
              "      <td>10</td>\n",
              "      <td>1047</td>\n",
              "      <td>16</td>\n",
              "      <td>0</td>\n",
              "      <td>123.50</td>\n",
              "    </tr>\n",
              "    <tr>\n",
              "      <th>2</th>\n",
              "      <td>0</td>\n",
              "      <td>108</td>\n",
              "      <td>3</td>\n",
              "      <td>0</td>\n",
              "      <td>123.50</td>\n",
              "    </tr>\n",
              "    <tr>\n",
              "      <th>3</th>\n",
              "      <td>0</td>\n",
              "      <td>179</td>\n",
              "      <td>1</td>\n",
              "      <td>1</td>\n",
              "      <td>123.50</td>\n",
              "    </tr>\n",
              "    <tr>\n",
              "      <th>4</th>\n",
              "      <td>0</td>\n",
              "      <td>247</td>\n",
              "      <td>2</td>\n",
              "      <td>1</td>\n",
              "      <td>123.51</td>\n",
              "    </tr>\n",
              "  </tbody>\n",
              "</table>\n",
              "</div>"
            ],
            "text/plain": [
              "   ScoreOfQuestion  ...  FirstResponseTimeToTheQuestion\n",
              "0                0  ...                          123.50\n",
              "1               10  ...                          123.50\n",
              "2                0  ...                          123.50\n",
              "3                0  ...                          123.50\n",
              "4                0  ...                          123.51\n",
              "\n",
              "[5 rows x 5 columns]"
            ]
          },
          "metadata": {
            "tags": []
          },
          "execution_count": 17
        }
      ]
    },
    {
      "cell_type": "code",
      "metadata": {
        "colab": {
          "base_uri": "https://localhost:8080/",
          "height": 202
        },
        "id": "GLDkMN6Panhj",
        "outputId": "ba851ddb-b4ef-42b0-9163-457bf11033ef"
      },
      "source": [
        "#show dataset\n",
        "dataset.head()"
      ],
      "execution_count": 18,
      "outputs": [
        {
          "output_type": "execute_result",
          "data": {
            "text/html": [
              "<div>\n",
              "<style scoped>\n",
              "    .dataframe tbody tr th:only-of-type {\n",
              "        vertical-align: middle;\n",
              "    }\n",
              "\n",
              "    .dataframe tbody tr th {\n",
              "        vertical-align: top;\n",
              "    }\n",
              "\n",
              "    .dataframe thead th {\n",
              "        text-align: right;\n",
              "    }\n",
              "</style>\n",
              "<table border=\"1\" class=\"dataframe\">\n",
              "  <thead>\n",
              "    <tr style=\"text-align: right;\">\n",
              "      <th></th>\n",
              "      <th>ScoreOfQuestion</th>\n",
              "      <th>ViewCount</th>\n",
              "      <th>NoOfAnswers</th>\n",
              "      <th>ScoreOfTheFirstAnswer</th>\n",
              "      <th>FirstResponseTimeToTheQuestion</th>\n",
              "    </tr>\n",
              "  </thead>\n",
              "  <tbody>\n",
              "    <tr>\n",
              "      <th>0</th>\n",
              "      <td>0</td>\n",
              "      <td>220</td>\n",
              "      <td>2</td>\n",
              "      <td>0</td>\n",
              "      <td>123.50</td>\n",
              "    </tr>\n",
              "    <tr>\n",
              "      <th>1</th>\n",
              "      <td>10</td>\n",
              "      <td>1047</td>\n",
              "      <td>16</td>\n",
              "      <td>0</td>\n",
              "      <td>123.50</td>\n",
              "    </tr>\n",
              "    <tr>\n",
              "      <th>2</th>\n",
              "      <td>0</td>\n",
              "      <td>108</td>\n",
              "      <td>3</td>\n",
              "      <td>0</td>\n",
              "      <td>123.50</td>\n",
              "    </tr>\n",
              "    <tr>\n",
              "      <th>3</th>\n",
              "      <td>0</td>\n",
              "      <td>179</td>\n",
              "      <td>1</td>\n",
              "      <td>1</td>\n",
              "      <td>123.50</td>\n",
              "    </tr>\n",
              "    <tr>\n",
              "      <th>4</th>\n",
              "      <td>0</td>\n",
              "      <td>247</td>\n",
              "      <td>2</td>\n",
              "      <td>1</td>\n",
              "      <td>123.51</td>\n",
              "    </tr>\n",
              "  </tbody>\n",
              "</table>\n",
              "</div>"
            ],
            "text/plain": [
              "   ScoreOfQuestion  ...  FirstResponseTimeToTheQuestion\n",
              "0                0  ...                          123.50\n",
              "1               10  ...                          123.50\n",
              "2                0  ...                          123.50\n",
              "3                0  ...                          123.50\n",
              "4                0  ...                          123.51\n",
              "\n",
              "[5 rows x 5 columns]"
            ]
          },
          "metadata": {
            "tags": []
          },
          "execution_count": 18
        }
      ]
    },
    {
      "cell_type": "markdown",
      "metadata": {
        "id": "N4QDV-u1cDI2"
      },
      "source": [
        "Studying about the data distribution for extracted features\n",
        "\n",
        "---\n",
        "\n"
      ]
    },
    {
      "cell_type": "code",
      "metadata": {
        "colab": {
          "base_uri": "https://localhost:8080/",
          "height": 334
        },
        "id": "zVbYvUB2askq",
        "outputId": "8190dd93-a37b-459d-baec-df2598a310c2"
      },
      "source": [
        "#score of question\n",
        "x = dataset['ScoreOfQuestion']\n",
        "ax = sns.distplot(x)"
      ],
      "execution_count": 19,
      "outputs": [
        {
          "output_type": "stream",
          "text": [
            "/usr/local/lib/python3.7/dist-packages/seaborn/distributions.py:2557: FutureWarning: `distplot` is a deprecated function and will be removed in a future version. Please adapt your code to use either `displot` (a figure-level function with similar flexibility) or `histplot` (an axes-level function for histograms).\n",
            "  warnings.warn(msg, FutureWarning)\n"
          ],
          "name": "stderr"
        },
        {
          "output_type": "display_data",
          "data": {
            "image/png": "[encoded data removed]",
            "text/plain": [
              "<Figure size 432x288 with 1 Axes>"
            ]
          },
          "metadata": {
            "tags": [],
            "needs_background": "light"
          }
        }
      ]
    },
    {
      "cell_type": "code",
      "metadata": {
        "colab": {
          "base_uri": "https://localhost:8080/",
          "height": 334
        },
        "id": "YbokyVUNbu1P",
        "outputId": "7892a7ef-ce19-4930-9487-43c732e17b0c"
      },
      "source": [
        "#view count\n",
        "x = dataset['ViewCount']\n",
        "ax = sns.distplot(x)"
      ],
      "execution_count": 20,
      "outputs": [
        {
          "output_type": "stream",
          "text": [
            "/usr/local/lib/python3.7/dist-packages/seaborn/distributions.py:2557: FutureWarning: `distplot` is a deprecated function and will be removed in a future version. Please adapt your code to use either `displot` (a figure-level function with similar flexibility) or `histplot` (an axes-level function for histograms).\n",
            "  warnings.warn(msg, FutureWarning)\n"
          ],
          "name": "stderr"
        },
        {
          "output_type": "display_data",
          "data": {
            "image/png": "[encoded data removed]",
            "text/plain": [
              "<Figure size 432x288 with 1 Axes>"
            ]
          },
          "metadata": {
            "tags": [],
            "needs_background": "light"
          }
        }
      ]
    },
    {
      "cell_type": "code",
      "metadata": {
        "colab": {
          "base_uri": "https://localhost:8080/",
          "height": 334
        },
        "id": "SRODZLvWb4MC",
        "outputId": "02b7c5d6-b1bd-4352-8565-fd6d16ade363"
      },
      "source": [
        "#no of answers\n",
        "x = dataset['NoOfAnswers']\n",
        "ax = sns.distplot(x)"
      ],
      "execution_count": 21,
      "outputs": [
        {
          "output_type": "stream",
          "text": [
            "/usr/local/lib/python3.7/dist-packages/seaborn/distributions.py:2557: FutureWarning: `distplot` is a deprecated function and will be removed in a future version. Please adapt your code to use either `displot` (a figure-level function with similar flexibility) or `histplot` (an axes-level function for histograms).\n",
            "  warnings.warn(msg, FutureWarning)\n"
          ],
          "name": "stderr"
        },
        {
          "output_type": "display_data",
          "data": {
            "image/png": "[encoded data removed]",
            "text/plain": [
              "<Figure size 432x288 with 1 Axes>"
            ]
          },
          "metadata": {
            "tags": [],
            "needs_background": "light"
          }
        }
      ]
    },
    {
      "cell_type": "code",
      "metadata": {
        "colab": {
          "base_uri": "https://localhost:8080/",
          "height": 334
        },
        "id": "nWjHTO_Aa1pS",
        "outputId": "4f2d127b-d0e5-402f-ba25-c7585a2138f5"
      },
      "source": [
        "#score of first answer\n",
        "x = dataset['ScoreOfTheFirstAnswer']\n",
        "ax = sns.distplot(x)"
      ],
      "execution_count": 22,
      "outputs": [
        {
          "output_type": "stream",
          "text": [
            "/usr/local/lib/python3.7/dist-packages/seaborn/distributions.py:2557: FutureWarning: `distplot` is a deprecated function and will be removed in a future version. Please adapt your code to use either `displot` (a figure-level function with similar flexibility) or `histplot` (an axes-level function for histograms).\n",
            "  warnings.warn(msg, FutureWarning)\n"
          ],
          "name": "stderr"
        },
        {
          "output_type": "display_data",
          "data": {
            "image/png": "[encoded data removed]",
            "text/plain": [
              "<Figure size 432x288 with 1 Axes>"
            ]
          },
          "metadata": {
            "tags": [],
            "needs_background": "light"
          }
        }
      ]
    },
    {
      "cell_type": "code",
      "metadata": {
        "colab": {
          "base_uri": "https://localhost:8080/",
          "height": 334
        },
        "id": "LZSB7K1Cb7J6",
        "outputId": "e96a0f9f-df84-4a99-ef66-4c380df6d1ce"
      },
      "source": [
        "#first response time to the question\n",
        "x = dataset['FirstResponseTimeToTheQuestion']\n",
        "ax = sns.distplot(x)"
      ],
      "execution_count": 23,
      "outputs": [
        {
          "output_type": "stream",
          "text": [
            "/usr/local/lib/python3.7/dist-packages/seaborn/distributions.py:2557: FutureWarning: `distplot` is a deprecated function and will be removed in a future version. Please adapt your code to use either `displot` (a figure-level function with similar flexibility) or `histplot` (an axes-level function for histograms).\n",
            "  warnings.warn(msg, FutureWarning)\n"
          ],
          "name": "stderr"
        },
        {
          "output_type": "display_data",
          "data": {
            "image/png": "[encoded data removed]",
            "text/plain": [
              "<Figure size 432x288 with 1 Axes>"
            ]
          },
          "metadata": {
            "tags": [],
            "needs_background": "light"
          }
        }
      ]
    },
    {
      "cell_type": "markdown",
      "metadata": {
        "id": "GFM-NmFycjL5"
      },
      "source": [
        "**4. Extract Proportionately proportional, Inversely proportional features**\n",
        "\n",
        "---\n",
        "\n"
      ]
    },
    {
      "cell_type": "code",
      "metadata": {
        "colab": {
          "base_uri": "https://localhost:8080/",
          "height": 202
        },
        "id": "f07r0vCIcn0S",
        "outputId": "fb41207c-2ea9-4386-a73c-6369fed9069c"
      },
      "source": [
        "#find Proportionately_proportional and Inversely_proportional features\n",
        "dataset['Proportionately_proportional']=dataset['ScoreOfQuestion']+ 2*dataset['FirstResponseTimeToTheQuestion']\n",
        "dataset['Inversely_proportional']=2*dataset['NoOfAnswers']+dataset['ScoreOfTheFirstAnswer']+3*dataset['ViewCount']\n",
        "dataset.head()"
      ],
      "execution_count": 24,
      "outputs": [
        {
          "output_type": "execute_result",
          "data": {
            "text/html": [
              "<div>\n",
              "<style scoped>\n",
              "    .dataframe tbody tr th:only-of-type {\n",
              "        vertical-align: middle;\n",
              "    }\n",
              "\n",
              "    .dataframe tbody tr th {\n",
              "        vertical-align: top;\n",
              "    }\n",
              "\n",
              "    .dataframe thead th {\n",
              "        text-align: right;\n",
              "    }\n",
              "</style>\n",
              "<table border=\"1\" class=\"dataframe\">\n",
              "  <thead>\n",
              "    <tr style=\"text-align: right;\">\n",
              "      <th></th>\n",
              "      <th>ScoreOfQuestion</th>\n",
              "      <th>ViewCount</th>\n",
              "      <th>NoOfAnswers</th>\n",
              "      <th>ScoreOfTheFirstAnswer</th>\n",
              "      <th>FirstResponseTimeToTheQuestion</th>\n",
              "      <th>Proportionately_proportional</th>\n",
              "      <th>Inversely_proportional</th>\n",
              "    </tr>\n",
              "  </thead>\n",
              "  <tbody>\n",
              "    <tr>\n",
              "      <th>0</th>\n",
              "      <td>0</td>\n",
              "      <td>220</td>\n",
              "      <td>2</td>\n",
              "      <td>0</td>\n",
              "      <td>123.50</td>\n",
              "      <td>247.00</td>\n",
              "      <td>664</td>\n",
              "    </tr>\n",
              "    <tr>\n",
              "      <th>1</th>\n",
              "      <td>10</td>\n",
              "      <td>1047</td>\n",
              "      <td>16</td>\n",
              "      <td>0</td>\n",
              "      <td>123.50</td>\n",
              "      <td>257.00</td>\n",
              "      <td>3173</td>\n",
              "    </tr>\n",
              "    <tr>\n",
              "      <th>2</th>\n",
              "      <td>0</td>\n",
              "      <td>108</td>\n",
              "      <td>3</td>\n",
              "      <td>0</td>\n",
              "      <td>123.50</td>\n",
              "      <td>247.00</td>\n",
              "      <td>330</td>\n",
              "    </tr>\n",
              "    <tr>\n",
              "      <th>3</th>\n",
              "      <td>0</td>\n",
              "      <td>179</td>\n",
              "      <td>1</td>\n",
              "      <td>1</td>\n",
              "      <td>123.50</td>\n",
              "      <td>247.00</td>\n",
              "      <td>540</td>\n",
              "    </tr>\n",
              "    <tr>\n",
              "      <th>4</th>\n",
              "      <td>0</td>\n",
              "      <td>247</td>\n",
              "      <td>2</td>\n",
              "      <td>1</td>\n",
              "      <td>123.51</td>\n",
              "      <td>247.02</td>\n",
              "      <td>746</td>\n",
              "    </tr>\n",
              "  </tbody>\n",
              "</table>\n",
              "</div>"
            ],
            "text/plain": [
              "   ScoreOfQuestion  ...  Inversely_proportional\n",
              "0                0  ...                     664\n",
              "1               10  ...                    3173\n",
              "2                0  ...                     330\n",
              "3                0  ...                     540\n",
              "4                0  ...                     746\n",
              "\n",
              "[5 rows x 7 columns]"
            ]
          },
          "metadata": {
            "tags": []
          },
          "execution_count": 24
        }
      ]
    },
    {
      "cell_type": "code",
      "metadata": {
        "id": "qEwKZ8MEcrQa"
      },
      "source": [
        "#get final feature dataset\n",
        "dataset = dataset[['Proportionately_proportional','Inversely_proportional']]"
      ],
      "execution_count": 25,
      "outputs": []
    },
    {
      "cell_type": "markdown",
      "metadata": {
        "id": "uLZkRdugc7-V"
      },
      "source": [
        "**5. Devide dataset into training and test sets**\n",
        "\n",
        "---\n",
        "\n"
      ]
    },
    {
      "cell_type": "code",
      "metadata": {
        "id": "ewSqjCvsczoi"
      },
      "source": [
        "#devide dataset into test and train datasets\n",
        "x_train, x_test= train_test_split(dataset,test_size=0.2,random_state=0)"
      ],
      "execution_count": 26,
      "outputs": []
    },
    {
      "cell_type": "code",
      "metadata": {
        "colab": {
          "base_uri": "https://localhost:8080/",
          "height": 414
        },
        "id": "bP8_OELFdQUz",
        "outputId": "9092ba56-4e30-4628-87d5-5d74dd074ca9"
      },
      "source": [
        "#show x_train\n",
        "x_train"
      ],
      "execution_count": 27,
      "outputs": [
        {
          "output_type": "execute_result",
          "data": {
            "text/html": [
              "<div>\n",
              "<style scoped>\n",
              "    .dataframe tbody tr th:only-of-type {\n",
              "        vertical-align: middle;\n",
              "    }\n",
              "\n",
              "    .dataframe tbody tr th {\n",
              "        vertical-align: top;\n",
              "    }\n",
              "\n",
              "    .dataframe thead th {\n",
              "        text-align: right;\n",
              "    }\n",
              "</style>\n",
              "<table border=\"1\" class=\"dataframe\">\n",
              "  <thead>\n",
              "    <tr style=\"text-align: right;\">\n",
              "      <th></th>\n",
              "      <th>Proportionately_proportional</th>\n",
              "      <th>Inversely_proportional</th>\n",
              "    </tr>\n",
              "  </thead>\n",
              "  <tbody>\n",
              "    <tr>\n",
              "      <th>8458</th>\n",
              "      <td>253.22</td>\n",
              "      <td>1338</td>\n",
              "    </tr>\n",
              "    <tr>\n",
              "      <th>57110</th>\n",
              "      <td>248.36</td>\n",
              "      <td>174</td>\n",
              "    </tr>\n",
              "    <tr>\n",
              "      <th>82879</th>\n",
              "      <td>248.84</td>\n",
              "      <td>148</td>\n",
              "    </tr>\n",
              "    <tr>\n",
              "      <th>4517</th>\n",
              "      <td>247.12</td>\n",
              "      <td>232</td>\n",
              "    </tr>\n",
              "    <tr>\n",
              "      <th>25981</th>\n",
              "      <td>247.64</td>\n",
              "      <td>270</td>\n",
              "    </tr>\n",
              "    <tr>\n",
              "      <th>...</th>\n",
              "      <td>...</td>\n",
              "      <td>...</td>\n",
              "    </tr>\n",
              "    <tr>\n",
              "      <th>21243</th>\n",
              "      <td>248.52</td>\n",
              "      <td>243</td>\n",
              "    </tr>\n",
              "    <tr>\n",
              "      <th>45891</th>\n",
              "      <td>248.12</td>\n",
              "      <td>369</td>\n",
              "    </tr>\n",
              "    <tr>\n",
              "      <th>42613</th>\n",
              "      <td>250.06</td>\n",
              "      <td>622</td>\n",
              "    </tr>\n",
              "    <tr>\n",
              "      <th>43567</th>\n",
              "      <td>250.08</td>\n",
              "      <td>858</td>\n",
              "    </tr>\n",
              "    <tr>\n",
              "      <th>68268</th>\n",
              "      <td>248.58</td>\n",
              "      <td>309</td>\n",
              "    </tr>\n",
              "  </tbody>\n",
              "</table>\n",
              "<p>66738 rows × 2 columns</p>\n",
              "</div>"
            ],
            "text/plain": [
              "       Proportionately_proportional  Inversely_proportional\n",
              "8458                         253.22                    1338\n",
              "57110                        248.36                     174\n",
              "82879                        248.84                     148\n",
              "4517                         247.12                     232\n",
              "25981                        247.64                     270\n",
              "...                             ...                     ...\n",
              "21243                        248.52                     243\n",
              "45891                        248.12                     369\n",
              "42613                        250.06                     622\n",
              "43567                        250.08                     858\n",
              "68268                        248.58                     309\n",
              "\n",
              "[66738 rows x 2 columns]"
            ]
          },
          "metadata": {
            "tags": []
          },
          "execution_count": 27
        }
      ]
    },
    {
      "cell_type": "code",
      "metadata": {
        "colab": {
          "base_uri": "https://localhost:8080/",
          "height": 414
        },
        "id": "w0L9bdcPix6x",
        "outputId": "8c309e9b-ed18-46ff-8163-5c091b73dd02"
      },
      "source": [
        "#show x_test\n",
        "x_test"
      ],
      "execution_count": 28,
      "outputs": [
        {
          "output_type": "execute_result",
          "data": {
            "text/html": [
              "<div>\n",
              "<style scoped>\n",
              "    .dataframe tbody tr th:only-of-type {\n",
              "        vertical-align: middle;\n",
              "    }\n",
              "\n",
              "    .dataframe tbody tr th {\n",
              "        vertical-align: top;\n",
              "    }\n",
              "\n",
              "    .dataframe thead th {\n",
              "        text-align: right;\n",
              "    }\n",
              "</style>\n",
              "<table border=\"1\" class=\"dataframe\">\n",
              "  <thead>\n",
              "    <tr style=\"text-align: right;\">\n",
              "      <th></th>\n",
              "      <th>Proportionately_proportional</th>\n",
              "      <th>Inversely_proportional</th>\n",
              "    </tr>\n",
              "  </thead>\n",
              "  <tbody>\n",
              "    <tr>\n",
              "      <th>81847</th>\n",
              "      <td>250.84</td>\n",
              "      <td>152</td>\n",
              "    </tr>\n",
              "    <tr>\n",
              "      <th>15292</th>\n",
              "      <td>247.38</td>\n",
              "      <td>1141</td>\n",
              "    </tr>\n",
              "    <tr>\n",
              "      <th>13967</th>\n",
              "      <td>248.86</td>\n",
              "      <td>89</td>\n",
              "    </tr>\n",
              "    <tr>\n",
              "      <th>32019</th>\n",
              "      <td>251.80</td>\n",
              "      <td>219</td>\n",
              "    </tr>\n",
              "    <tr>\n",
              "      <th>11740</th>\n",
              "      <td>249.30</td>\n",
              "      <td>916</td>\n",
              "    </tr>\n",
              "    <tr>\n",
              "      <th>...</th>\n",
              "      <td>...</td>\n",
              "      <td>...</td>\n",
              "    </tr>\n",
              "    <tr>\n",
              "      <th>18214</th>\n",
              "      <td>252.46</td>\n",
              "      <td>770</td>\n",
              "    </tr>\n",
              "    <tr>\n",
              "      <th>19827</th>\n",
              "      <td>250.50</td>\n",
              "      <td>1441</td>\n",
              "    </tr>\n",
              "    <tr>\n",
              "      <th>10561</th>\n",
              "      <td>247.60</td>\n",
              "      <td>1034</td>\n",
              "    </tr>\n",
              "    <tr>\n",
              "      <th>58051</th>\n",
              "      <td>252.36</td>\n",
              "      <td>1102</td>\n",
              "    </tr>\n",
              "    <tr>\n",
              "      <th>64228</th>\n",
              "      <td>248.48</td>\n",
              "      <td>270</td>\n",
              "    </tr>\n",
              "  </tbody>\n",
              "</table>\n",
              "<p>16685 rows × 2 columns</p>\n",
              "</div>"
            ],
            "text/plain": [
              "       Proportionately_proportional  Inversely_proportional\n",
              "81847                        250.84                     152\n",
              "15292                        247.38                    1141\n",
              "13967                        248.86                      89\n",
              "32019                        251.80                     219\n",
              "11740                        249.30                     916\n",
              "...                             ...                     ...\n",
              "18214                        252.46                     770\n",
              "19827                        250.50                    1441\n",
              "10561                        247.60                    1034\n",
              "58051                        252.36                    1102\n",
              "64228                        248.48                     270\n",
              "\n",
              "[16685 rows x 2 columns]"
            ]
          },
          "metadata": {
            "tags": []
          },
          "execution_count": 28
        }
      ]
    },
    {
      "cell_type": "code",
      "metadata": {
        "colab": {
          "base_uri": "https://localhost:8080/"
        },
        "id": "ArnUj5kvopca",
        "outputId": "7539ade5-503f-45b2-d06d-a1154eaeebb2"
      },
      "source": [
        "#get x_test as array\n",
        "X_TEST = x_test.values\n",
        "X_TEST"
      ],
      "execution_count": 29,
      "outputs": [
        {
          "output_type": "execute_result",
          "data": {
            "text/plain": [
              "array([[ 250.84,  152.  ],\n",
              "       [ 247.38, 1141.  ],\n",
              "       [ 248.86,   89.  ],\n",
              "       ...,\n",
              "       [ 247.6 , 1034.  ],\n",
              "       [ 252.36, 1102.  ],\n",
              "       [ 248.48,  270.  ]])"
            ]
          },
          "metadata": {
            "tags": []
          },
          "execution_count": 29
        }
      ]
    },
    {
      "cell_type": "code",
      "metadata": {
        "colab": {
          "base_uri": "https://localhost:8080/"
        },
        "id": "51EMUy4a_Gm_",
        "outputId": "aecf38ea-2e09-4835-8896-78f9e296347d"
      },
      "source": [
        "#get x_test as array\n",
        "X_TRAIN = x_train.values\n",
        "X_TRAIN"
      ],
      "execution_count": 30,
      "outputs": [
        {
          "output_type": "execute_result",
          "data": {
            "text/plain": [
              "array([[ 253.22, 1338.  ],\n",
              "       [ 248.36,  174.  ],\n",
              "       [ 248.84,  148.  ],\n",
              "       ...,\n",
              "       [ 250.06,  622.  ],\n",
              "       [ 250.08,  858.  ],\n",
              "       [ 248.58,  309.  ]])"
            ]
          },
          "metadata": {
            "tags": []
          },
          "execution_count": 30
        }
      ]
    },
    {
      "cell_type": "markdown",
      "metadata": {
        "id": "r1wia852df2x"
      },
      "source": [
        "**6. Define kmeans clustering model**\n",
        "\n",
        "---\n",
        "\n"
      ]
    },
    {
      "cell_type": "code",
      "metadata": {
        "id": "Sjr-IE29pJG-"
      },
      "source": [
        "#define k_means clustering model for 5 clusters\n",
        "def k_means(feature_matrix, num_clusters=5):\n",
        "    km = KMeans(n_clusters=num_clusters,\n",
        "                max_iter=10)\n",
        "    km.fit(feature_matrix)\n",
        "    clusters = km.labels_\n",
        "    return km, clusters"
      ],
      "execution_count": 31,
      "outputs": []
    },
    {
      "cell_type": "markdown",
      "metadata": {
        "id": "sx_ppC18ekfE"
      },
      "source": [
        "**7. Finding the optimal number of clusters**\n",
        "\n",
        "---\n",
        "\n"
      ]
    },
    {
      "cell_type": "markdown",
      "metadata": {
        "id": "MUuaHTqae2wd"
      },
      "source": [
        "**7.1 Elbow Method**\n",
        "\n",
        "---\n",
        "\n"
      ]
    },
    {
      "cell_type": "code",
      "metadata": {
        "id": "HJSN7DJypNK-"
      },
      "source": [
        "distortions = []\n",
        "k_means_models = []\n",
        "for i in range(2, 9):\n",
        "  km_obj, clusters = k_means(feature_matrix=X_TRAIN,num_clusters=i)\n",
        "  distortions.append(km_obj.inertia_)\n",
        "  k_means_models.append(km_obj)"
      ],
      "execution_count": null,
      "outputs": []
    },
    {
      "cell_type": "code",
      "metadata": {
        "colab": {
          "base_uri": "https://localhost:8080/",
          "height": 290
        },
        "id": "v0ivC9WcpbRd",
        "outputId": "ffbb63ab-5a5b-4ec6-bde0-557c6b9fca97"
      },
      "source": [
        "plt.plot(range(2, 9), distortions, marker='o')\n",
        "plt.xlabel('Number of clusters')\n",
        "plt.ylabel('Distortion')\n",
        "plt.show()"
      ],
      "execution_count": null,
      "outputs": [
        {
          "output_type": "display_data",
          "data": {
            "image/png": "[encoded data removed]",
            "text/plain": [
              "<Figure size 432x288 with 1 Axes>"
            ]
          },
          "metadata": {
            "tags": []
          }
        }
      ]
    },
    {
      "cell_type": "markdown",
      "metadata": {
        "id": "peVRu-JOfQtm"
      },
      "source": [
        "**7.2 Average silhouette method**\n",
        "\n",
        "---\n",
        "\n"
      ]
    },
    {
      "cell_type": "code",
      "metadata": {
        "colab": {
          "base_uri": "https://localhost:8080/",
          "height": 264
        },
        "id": "jNcgucxTpsun",
        "outputId": "60545918-96ce-4935-f89c-e93e2a933b3d"
      },
      "source": [
        "silhouette_scores = [silhouette_score(X_TRAIN ,model.labels_) for model in k_means_models]\n",
        "_ = plt.plot(range(2,9), silhouette_scores, \"bo-\", color='blue',linewidth=3,markersize=8)"
      ],
      "execution_count": null,
      "outputs": [
        {
          "output_type": "display_data",
          "data": {
            "image/png": "[encoded data removed]",
            "text/plain": [
              "<Figure size 432x288 with 1 Axes>"
            ]
          },
          "metadata": {
            "tags": []
          }
        }
      ]
    },
    {
      "cell_type": "code",
      "metadata": {
        "colab": {
          "base_uri": "https://localhost:8080/",
          "height": 1000
        },
        "id": "5NqBDOXpp9ou",
        "outputId": "2f16b0c9-4cf3-48b0-9c12-34a003091e4e"
      },
      "source": [
        "range_n_clusters = [2, 3, 4, 5, 6]\n",
        " \n",
        "for n_clusters in range_n_clusters:\n",
        "    # Create a subplot with 1 row and 2 columns\n",
        "    fig, (ax1, ax2) = plt.subplots(1, 2)\n",
        "    fig.set_size_inches(18, 7)\n",
        " \n",
        "    # The 1st subplot is the silhouette plot\n",
        "    # The silhouette coefficient can range from -1, 1 but in this example all\n",
        "    # lie within [-0.1, 1]\n",
        "    ax1.set_xlim([-0.1, 1])\n",
        "    # The (n_clusters+1)*10 is for inserting blank space between silhouette\n",
        "    # plots of individual clusters, to demarcate them clearly.\n",
        "    ax1.set_ylim([0, len(X_TRAIN) + (n_clusters + 1) * 10])\n",
        " \n",
        "    # Initialize the clusterer with n_clusters value and a random generator\n",
        "    # seed of 10 for reproducibility.\n",
        "    clusterer = KMeans(n_clusters=n_clusters, random_state=10)\n",
        "    cluster_labels = clusterer.fit_predict(X_TRAIN)\n",
        " \n",
        "    # The silhouette_score gives the average value for all the samples.\n",
        "    # This gives a perspective into the density and separation of the formed\n",
        "    # clusters\n",
        "    silhouette_avg = silhouette_score(X_TRAIN, cluster_labels)\n",
        "    print(\"For n_clusters =\", n_clusters,\n",
        "          \"The average silhouette_score is :\", silhouette_avg)\n",
        " \n",
        "    # Compute the silhouette scores for each sample\n",
        "    sample_silhouette_values = silhouette_samples(X_TRAIN, cluster_labels)\n",
        " \n",
        "    y_lower = 10\n",
        "    for i in range(n_clusters):\n",
        "        # Aggregate the silhouette scores for samples belonging to\n",
        "        # cluster i, and sort them\n",
        "        ith_cluster_silhouette_values = \\\n",
        "            sample_silhouette_values[cluster_labels == i]\n",
        " \n",
        "        ith_cluster_silhouette_values.sort()\n",
        " \n",
        "        size_cluster_i = ith_cluster_silhouette_values.shape[0]\n",
        "        y_upper = y_lower + size_cluster_i\n",
        " \n",
        "        color = cm.nipy_spectral(float(i) / n_clusters)\n",
        "        ax1.fill_betweenx(np.arange(y_lower, y_upper),\n",
        "                          0, ith_cluster_silhouette_values,\n",
        "                          facecolor=color, edgecolor=color, alpha=0.7)\n",
        " \n",
        "        # Label the silhouette plots with their cluster numbers at the middle\n",
        "        ax1.text(-0.05, y_lower + 0.5 * size_cluster_i, str(i))\n",
        " \n",
        "        # Compute the new y_lower for next plot\n",
        "        y_lower = y_upper + 10  # 10 for the 0 samples\n",
        " \n",
        "    ax1.set_title(\"The silhouette plot for the various clusters.\")\n",
        "    ax1.set_xlabel(\"The silhouette coefficient values\")\n",
        "    ax1.set_ylabel(\"Cluster label\")\n",
        " \n",
        "    # The vertical line for average silhouette score of all the values\n",
        "    ax1.axvline(x=silhouette_avg, color=\"red\", linestyle=\"--\")\n",
        " \n",
        "    ax1.set_yticks([])  # Clear the yaxis labels / ticks\n",
        "    ax1.set_xticks([-0.1, 0, 0.2, 0.4, 0.6, 0.8, 1])\n",
        " \n",
        "    # 2nd Plot showing the actual clusters formed\n",
        "    colors = cm.nipy_spectral(cluster_labels.astype(float) / n_clusters)\n",
        "    ax2.scatter(X_TRAIN[:, 0], X_TRAIN[:, 1], marker='.', s=30, lw=0, alpha=0.7,\n",
        "                c=colors, edgecolor='k')\n",
        " \n",
        "    # Labeling the clusters\n",
        "    centers = clusterer.cluster_centers_\n",
        "    # Draw white circles at cluster centers\n",
        "    ax2.scatter(centers[:, 0], centers[:, 1], marker='o',\n",
        "                c=\"white\", alpha=1, s=200, edgecolor='k')\n",
        " \n",
        "    for i, c in enumerate(centers):\n",
        "        ax2.scatter(c[0], c[1], marker='$%d$' % i, alpha=1,\n",
        "                    s=50, edgecolor='k')\n",
        " \n",
        "    ax2.set_title(\"The visualization of the clustered data.\")\n",
        "    ax2.set_xlabel(\"Feature space for the 1st feature\")\n",
        "    ax2.set_ylabel(\"Feature space for the 2nd feature\")\n",
        " \n",
        "    plt.suptitle((\"Silhouette analysis for KMeans clustering on sample data \"\n",
        "                  \"with n_clusters = %d\" % n_clusters),\n",
        "                 fontsize=14, fontweight='bold')\n",
        " \n",
        "plt.show()"
      ],
      "execution_count": null,
      "outputs": [
        {
          "output_type": "stream",
          "text": [
            "For n_clusters = 2 The average silhouette_score is : 0.9862111684039555\n",
            "For n_clusters = 3 The average silhouette_score is : 0.7624163448783955\n",
            "For n_clusters = 4 The average silhouette_score is : 0.7237806711234874\n",
            "For n_clusters = 5 The average silhouette_score is : 0.664950029751527\n",
            "For n_clusters = 6 The average silhouette_score is : 0.6325665490414765\n"
          ],
          "name": "stdout"
        },
        {
          "output_type": "display_data",
          "data": {
            "image/png": "[encoded data removed]",
            "text/plain": [
              "<Figure size 1296x504 with 2 Axes>"
            ]
          },
          "metadata": {
            "tags": []
          }
        },
        {
          "output_type": "display_data",
          "data": {
            "image/png": "[encoded data removed]",
            "text/plain": [
              "<Figure size 1296x504 with 2 Axes>"
            ]
          },
          "metadata": {
            "tags": []
          }
        },
        {
          "output_type": "display_data",
          "data": {
            "image/png": "[encoded data removed]",
            "text/plain": [
              "<Figure size 1296x504 with 2 Axes>"
            ]
          },
          "metadata": {
            "tags": []
          }
        },
        {
          "output_type": "display_data",
          "data": {
            "image/png": "[encoded data removed]",
            "text/plain": [
              "<Figure size 1296x504 with 2 Axes>"
            ]
          },
          "metadata": {
            "tags": []
          }
        },
        {
          "output_type": "display_data",
          "data": {
            "image/png": "[encoded data removed]",
            "text/plain": [
              "<Figure size 1296x504 with 2 Axes>"
            ]
          },
          "metadata": {
            "tags": []
          }
        }
      ]
    },
    {
      "cell_type": "code",
      "metadata": {
        "colab": {
          "base_uri": "https://localhost:8080/",
          "height": 265
        },
        "id": "H7JHd8SxfGuU",
        "outputId": "b067ec48-758c-4c4a-ebc8-4becc3f4c655"
      },
      "source": [
        "plt.scatter(X_TRAIN[:, 0], X_TRAIN[:, 1], s=20);\n",
        "plt.show()"
      ],
      "execution_count": null,
      "outputs": [
        {
          "output_type": "display_data",
          "data": {
            "image/png": "[encoded data removed]",
            "text/plain": [
              "<Figure size 432x288 with 1 Axes>"
            ]
          },
          "metadata": {
            "tags": []
          }
        }
      ]
    },
    {
      "cell_type": "markdown",
      "metadata": {
        "id": "-RpmAEcDfgc_"
      },
      "source": [
        "**8. Training the K-means algorithm on the training dataset**\n",
        "\n",
        "---\n",
        "\n"
      ]
    },
    {
      "cell_type": "code",
      "metadata": {
        "colab": {
          "base_uri": "https://localhost:8080/",
          "height": 627
        },
        "id": "vTMkbLNmp-jo",
        "outputId": "bdbf8fdf-85db-4f26-c0ea-38849ed9b075"
      },
      "source": [
        "kmeans_model = KMeans(n_clusters = 3,  init= 'k-means++', max_iter= 100000).fit(X_TRAIN)\n",
        "labels = kmeans_model.labels_\n",
        "y_kmeans = kmeans_model.predict(X_TRAIN)\n",
        "x_train['Cluster'] = labels\n",
        "def ClusterLabel(x,y):\n",
        "  if x == 0:\n",
        "      return \"Basic\"\n",
        "  elif x == 1:\n",
        "      return \"Advanced\"\n",
        "  elif x == 2:\n",
        "      return \"Intermediate\"   \n",
        "x_train['Cluster_Label'] = x_train['Cluster'].apply(ClusterLabel, args=('Cluster',))\n",
        "x_train"
      ],
      "execution_count": 32,
      "outputs": [
        {
          "output_type": "stream",
          "text": [
            "/usr/local/lib/python3.7/dist-packages/ipykernel_launcher.py:4: SettingWithCopyWarning: \n",
            "A value is trying to be set on a copy of a slice from a DataFrame.\n",
            "Try using .loc[row_indexer,col_indexer] = value instead\n",
            "\n",
            "See the caveats in the documentation: https://pandas.pydata.org/pandas-docs/stable/user_guide/indexing.html#returning-a-view-versus-a-copy\n",
            "  after removing the cwd from sys.path.\n",
            "/usr/local/lib/python3.7/dist-packages/ipykernel_launcher.py:12: SettingWithCopyWarning: \n",
            "A value is trying to be set on a copy of a slice from a DataFrame.\n",
            "Try using .loc[row_indexer,col_indexer] = value instead\n",
            "\n",
            "See the caveats in the documentation: https://pandas.pydata.org/pandas-docs/stable/user_guide/indexing.html#returning-a-view-versus-a-copy\n",
            "  if sys.path[0] == '':\n"
          ],
          "name": "stderr"
        },
        {
          "output_type": "execute_result",
          "data": {
            "text/html": [
              "<div>\n",
              "<style scoped>\n",
              "    .dataframe tbody tr th:only-of-type {\n",
              "        vertical-align: middle;\n",
              "    }\n",
              "\n",
              "    .dataframe tbody tr th {\n",
              "        vertical-align: top;\n",
              "    }\n",
              "\n",
              "    .dataframe thead th {\n",
              "        text-align: right;\n",
              "    }\n",
              "</style>\n",
              "<table border=\"1\" class=\"dataframe\">\n",
              "  <thead>\n",
              "    <tr style=\"text-align: right;\">\n",
              "      <th></th>\n",
              "      <th>Proportionately_proportional</th>\n",
              "      <th>Inversely_proportional</th>\n",
              "      <th>Cluster</th>\n",
              "      <th>Cluster_Label</th>\n",
              "    </tr>\n",
              "  </thead>\n",
              "  <tbody>\n",
              "    <tr>\n",
              "      <th>8458</th>\n",
              "      <td>253.22</td>\n",
              "      <td>1338</td>\n",
              "      <td>2</td>\n",
              "      <td>Intermediate</td>\n",
              "    </tr>\n",
              "    <tr>\n",
              "      <th>57110</th>\n",
              "      <td>248.36</td>\n",
              "      <td>174</td>\n",
              "      <td>0</td>\n",
              "      <td>Basic</td>\n",
              "    </tr>\n",
              "    <tr>\n",
              "      <th>82879</th>\n",
              "      <td>248.84</td>\n",
              "      <td>148</td>\n",
              "      <td>0</td>\n",
              "      <td>Basic</td>\n",
              "    </tr>\n",
              "    <tr>\n",
              "      <th>4517</th>\n",
              "      <td>247.12</td>\n",
              "      <td>232</td>\n",
              "      <td>0</td>\n",
              "      <td>Basic</td>\n",
              "    </tr>\n",
              "    <tr>\n",
              "      <th>25981</th>\n",
              "      <td>247.64</td>\n",
              "      <td>270</td>\n",
              "      <td>0</td>\n",
              "      <td>Basic</td>\n",
              "    </tr>\n",
              "    <tr>\n",
              "      <th>...</th>\n",
              "      <td>...</td>\n",
              "      <td>...</td>\n",
              "      <td>...</td>\n",
              "      <td>...</td>\n",
              "    </tr>\n",
              "    <tr>\n",
              "      <th>21243</th>\n",
              "      <td>248.52</td>\n",
              "      <td>243</td>\n",
              "      <td>0</td>\n",
              "      <td>Basic</td>\n",
              "    </tr>\n",
              "    <tr>\n",
              "      <th>45891</th>\n",
              "      <td>248.12</td>\n",
              "      <td>369</td>\n",
              "      <td>0</td>\n",
              "      <td>Basic</td>\n",
              "    </tr>\n",
              "    <tr>\n",
              "      <th>42613</th>\n",
              "      <td>250.06</td>\n",
              "      <td>622</td>\n",
              "      <td>0</td>\n",
              "      <td>Basic</td>\n",
              "    </tr>\n",
              "    <tr>\n",
              "      <th>43567</th>\n",
              "      <td>250.08</td>\n",
              "      <td>858</td>\n",
              "      <td>0</td>\n",
              "      <td>Basic</td>\n",
              "    </tr>\n",
              "    <tr>\n",
              "      <th>68268</th>\n",
              "      <td>248.58</td>\n",
              "      <td>309</td>\n",
              "      <td>0</td>\n",
              "      <td>Basic</td>\n",
              "    </tr>\n",
              "  </tbody>\n",
              "</table>\n",
              "<p>66738 rows × 4 columns</p>\n",
              "</div>"
            ],
            "text/plain": [
              "       Proportionately_proportional  ...  Cluster_Label\n",
              "8458                         253.22  ...   Intermediate\n",
              "57110                        248.36  ...          Basic\n",
              "82879                        248.84  ...          Basic\n",
              "4517                         247.12  ...          Basic\n",
              "25981                        247.64  ...          Basic\n",
              "...                             ...  ...            ...\n",
              "21243                        248.52  ...          Basic\n",
              "45891                        248.12  ...          Basic\n",
              "42613                        250.06  ...          Basic\n",
              "43567                        250.08  ...          Basic\n",
              "68268                        248.58  ...          Basic\n",
              "\n",
              "[66738 rows x 4 columns]"
            ]
          },
          "metadata": {
            "tags": []
          },
          "execution_count": 32
        }
      ]
    },
    {
      "cell_type": "code",
      "metadata": {
        "colab": {
          "base_uri": "https://localhost:8080/",
          "height": 295
        },
        "id": "v9DSgF3xxDYF",
        "outputId": "2dffa489-f8bb-4fe6-9bcf-277bca4e59ee"
      },
      "source": [
        "#visualization of the clustered data\n",
        "plt.scatter(X_TRAIN[:, 0], X_TRAIN[:, 1], c=y_kmeans, s=20, cmap='summer')\n",
        "centers = kmeans_model.cluster_centers_\n",
        "plt.scatter(centers[:, 0], centers[:, 1], marker='o',\n",
        "                c=\"white\", alpha=1, s=200, edgecolor='k');\n",
        "for i, c in enumerate(centers):\n",
        "    plt.scatter(c[0], c[1], marker='$%d$' % i, alpha=1,\n",
        "                    s=50, edgecolor='k')\n",
        "    plt.title(\"The visualization of the clustered data.\")\n",
        "    plt.xlabel(\"Proportionately_proportional\")\n",
        "    plt.ylabel(\"Inversely_proportional\")\n",
        "plt.text(350, 55000, r'0 - Basic')\n",
        "plt.text(350, 51000, r'2 - Intermediate')\n",
        "plt.text(350, 47000, r'1 - Advanced')\n",
        "plt.show()"
      ],
      "execution_count": 33,
      "outputs": [
        {
          "output_type": "display_data",
          "data": {
            "image/png": "[encoded data removed]",
            "text/plain": [
              "<Figure size 432x288 with 1 Axes>"
            ]
          },
          "metadata": {
            "tags": [],
            "needs_background": "light"
          }
        }
      ]
    },
    {
      "cell_type": "markdown",
      "metadata": {
        "id": "lextbE41gGa1"
      },
      "source": [
        "**9. Save model and Predict difficulty level of test dataset by model**\n",
        "\n",
        "---\n",
        "\n"
      ]
    },
    {
      "cell_type": "code",
      "metadata": {
        "id": "hyy09Dqaqsm_"
      },
      "source": [
        "#save model\n",
        "pickle.dump(kmeans_model, open(\"save.pkl\", \"wb\"))"
      ],
      "execution_count": 34,
      "outputs": []
    },
    {
      "cell_type": "code",
      "metadata": {
        "id": "mrzdz1p-qtyF"
      },
      "source": [
        "#load model\n",
        "model_ = pickle.load(open(\"save.pkl\", \"rb\"))"
      ],
      "execution_count": 35,
      "outputs": []
    },
    {
      "cell_type": "code",
      "metadata": {
        "colab": {
          "base_uri": "https://localhost:8080/",
          "height": 627
        },
        "id": "ToxEBLpTqvJ1",
        "outputId": "34ad2c38-3c4d-4271-9cff-32962e5b15fa"
      },
      "source": [
        "# Predict difficulty level of test dataset by model\n",
        "t = X_TEST\n",
        "v = model_.predict(t)\n",
        "x_test['Cluster'] = v\n",
        "def ClusterLabel(x,y):\n",
        "  if x == 0:\n",
        "      return \"Basic\"\n",
        "  elif x == 1:\n",
        "      return \"Advanced\"\n",
        "  elif x == 2:\n",
        "      return \"Intermediate\"   \n",
        "x_test['Cluster_Label'] = x_test['Cluster'].apply(ClusterLabel, args=('Cluster',))\n",
        "x_test"
      ],
      "execution_count": 36,
      "outputs": [
        {
          "output_type": "stream",
          "text": [
            "/usr/local/lib/python3.7/dist-packages/ipykernel_launcher.py:4: SettingWithCopyWarning: \n",
            "A value is trying to be set on a copy of a slice from a DataFrame.\n",
            "Try using .loc[row_indexer,col_indexer] = value instead\n",
            "\n",
            "See the caveats in the documentation: https://pandas.pydata.org/pandas-docs/stable/user_guide/indexing.html#returning-a-view-versus-a-copy\n",
            "  after removing the cwd from sys.path.\n",
            "/usr/local/lib/python3.7/dist-packages/ipykernel_launcher.py:12: SettingWithCopyWarning: \n",
            "A value is trying to be set on a copy of a slice from a DataFrame.\n",
            "Try using .loc[row_indexer,col_indexer] = value instead\n",
            "\n",
            "See the caveats in the documentation: https://pandas.pydata.org/pandas-docs/stable/user_guide/indexing.html#returning-a-view-versus-a-copy\n",
            "  if sys.path[0] == '':\n"
          ],
          "name": "stderr"
        },
        {
          "output_type": "execute_result",
          "data": {
            "text/html": [
              "<div>\n",
              "<style scoped>\n",
              "    .dataframe tbody tr th:only-of-type {\n",
              "        vertical-align: middle;\n",
              "    }\n",
              "\n",
              "    .dataframe tbody tr th {\n",
              "        vertical-align: top;\n",
              "    }\n",
              "\n",
              "    .dataframe thead th {\n",
              "        text-align: right;\n",
              "    }\n",
              "</style>\n",
              "<table border=\"1\" class=\"dataframe\">\n",
              "  <thead>\n",
              "    <tr style=\"text-align: right;\">\n",
              "      <th></th>\n",
              "      <th>Proportionately_proportional</th>\n",
              "      <th>Inversely_proportional</th>\n",
              "      <th>Cluster</th>\n",
              "      <th>Cluster_Label</th>\n",
              "    </tr>\n",
              "  </thead>\n",
              "  <tbody>\n",
              "    <tr>\n",
              "      <th>81847</th>\n",
              "      <td>250.84</td>\n",
              "      <td>152</td>\n",
              "      <td>0</td>\n",
              "      <td>Basic</td>\n",
              "    </tr>\n",
              "    <tr>\n",
              "      <th>15292</th>\n",
              "      <td>247.38</td>\n",
              "      <td>1141</td>\n",
              "      <td>2</td>\n",
              "      <td>Intermediate</td>\n",
              "    </tr>\n",
              "    <tr>\n",
              "      <th>13967</th>\n",
              "      <td>248.86</td>\n",
              "      <td>89</td>\n",
              "      <td>0</td>\n",
              "      <td>Basic</td>\n",
              "    </tr>\n",
              "    <tr>\n",
              "      <th>32019</th>\n",
              "      <td>251.80</td>\n",
              "      <td>219</td>\n",
              "      <td>0</td>\n",
              "      <td>Basic</td>\n",
              "    </tr>\n",
              "    <tr>\n",
              "      <th>11740</th>\n",
              "      <td>249.30</td>\n",
              "      <td>916</td>\n",
              "      <td>0</td>\n",
              "      <td>Basic</td>\n",
              "    </tr>\n",
              "    <tr>\n",
              "      <th>...</th>\n",
              "      <td>...</td>\n",
              "      <td>...</td>\n",
              "      <td>...</td>\n",
              "      <td>...</td>\n",
              "    </tr>\n",
              "    <tr>\n",
              "      <th>18214</th>\n",
              "      <td>252.46</td>\n",
              "      <td>770</td>\n",
              "      <td>0</td>\n",
              "      <td>Basic</td>\n",
              "    </tr>\n",
              "    <tr>\n",
              "      <th>19827</th>\n",
              "      <td>250.50</td>\n",
              "      <td>1441</td>\n",
              "      <td>2</td>\n",
              "      <td>Intermediate</td>\n",
              "    </tr>\n",
              "    <tr>\n",
              "      <th>10561</th>\n",
              "      <td>247.60</td>\n",
              "      <td>1034</td>\n",
              "      <td>2</td>\n",
              "      <td>Intermediate</td>\n",
              "    </tr>\n",
              "    <tr>\n",
              "      <th>58051</th>\n",
              "      <td>252.36</td>\n",
              "      <td>1102</td>\n",
              "      <td>2</td>\n",
              "      <td>Intermediate</td>\n",
              "    </tr>\n",
              "    <tr>\n",
              "      <th>64228</th>\n",
              "      <td>248.48</td>\n",
              "      <td>270</td>\n",
              "      <td>0</td>\n",
              "      <td>Basic</td>\n",
              "    </tr>\n",
              "  </tbody>\n",
              "</table>\n",
              "<p>16685 rows × 4 columns</p>\n",
              "</div>"
            ],
            "text/plain": [
              "       Proportionately_proportional  ...  Cluster_Label\n",
              "81847                        250.84  ...          Basic\n",
              "15292                        247.38  ...   Intermediate\n",
              "13967                        248.86  ...          Basic\n",
              "32019                        251.80  ...          Basic\n",
              "11740                        249.30  ...          Basic\n",
              "...                             ...  ...            ...\n",
              "18214                        252.46  ...          Basic\n",
              "19827                        250.50  ...   Intermediate\n",
              "10561                        247.60  ...   Intermediate\n",
              "58051                        252.36  ...   Intermediate\n",
              "64228                        248.48  ...          Basic\n",
              "\n",
              "[16685 rows x 4 columns]"
            ]
          },
          "metadata": {
            "tags": []
          },
          "execution_count": 36
        }
      ]
    },
    {
      "cell_type": "markdown",
      "metadata": {
        "id": "njEORXbGgpxL"
      },
      "source": [
        "**10. Cluster Evaluation**\n",
        "\n",
        "---\n",
        "\n"
      ]
    },
    {
      "cell_type": "code",
      "metadata": {
        "colab": {
          "base_uri": "https://localhost:8080/"
        },
        "id": "sjOIk6BwrVik",
        "outputId": "6306f679-1d25-4802-da53-ede27a1c3caf"
      },
      "source": [
        "#Evaluation cluster by silhouette score\n",
        "silhouette_score(X_TRAIN, labels, metric = 'euclidean')"
      ],
      "execution_count": 37,
      "outputs": [
        {
          "output_type": "execute_result",
          "data": {
            "text/plain": [
              "0.7624163448783955"
            ]
          },
          "metadata": {
            "tags": []
          },
          "execution_count": 37
        }
      ]
    },
    {
      "cell_type": "markdown",
      "metadata": {
        "id": "jqHZxj4ig7J0"
      },
      "source": [
        "**11. Creating Api for model**\n",
        "\n",
        "---\n",
        "\n"
      ]
    },
    {
      "cell_type": "code",
      "metadata": {
        "colab": {
          "base_uri": "https://localhost:8080/"
        },
        "id": "I2ytcuXnOKb6",
        "outputId": "07deaa04-37c4-4ae6-9776-52347a576ac2"
      },
      "source": [
        "#install fastapi library\n",
        "!pip install fastapi"
      ],
      "execution_count": 38,
      "outputs": [
        {
          "output_type": "stream",
          "text": [
            "Requirement already satisfied: fastapi in /usr/local/lib/python3.7/dist-packages (0.65.1)\n",
            "Requirement already satisfied: starlette==0.14.2 in /usr/local/lib/python3.7/dist-packages (from fastapi) (0.14.2)\n",
            "Requirement already satisfied: pydantic!=1.7,!=1.7.1,!=1.7.2,!=1.7.3,!=1.8,!=1.8.1,<2.0.0,>=1.6.2 in /usr/local/lib/python3.7/dist-packages (from fastapi) (1.8.2)\n",
            "Requirement already satisfied: typing-extensions>=3.7.4.3 in /usr/local/lib/python3.7/dist-packages (from pydantic!=1.7,!=1.7.1,!=1.7.2,!=1.7.3,!=1.8,!=1.8.1,<2.0.0,>=1.6.2->fastapi) (3.7.4.3)\n"
          ],
          "name": "stdout"
        }
      ]
    },
    {
      "cell_type": "code",
      "metadata": {
        "id": "F7xPBV8uTcQY"
      },
      "source": [
        "#create question model\n",
        "from pydantic import BaseModel\n",
        "\n",
        "class Question(BaseModel):\n",
        "    ScoreOfQuestion: float \n",
        "    ViewCount: float \n",
        "    NoOfAnswers: float \n",
        "    ScoreOfTheFirstAnswer: float\n",
        "    FirstResponseTimeToTheQuestion: float \n",
        "    class Config:\n",
        "        schema_extra = {\n",
        "            \"example\": {\n",
        "                \"ScoreOfQuestion\": 20, \n",
        "                \"ViewCount\": 1000,\n",
        "                \"NoOfAnswers\": 6, \n",
        "                \"ScoreOfTheFirstAnswer\":50,             \n",
        "                \"FirstResponseTimeToTheQuestion\": 1230000\n",
        "            }\n",
        "        }"
      ],
      "execution_count": 39,
      "outputs": []
    },
    {
      "cell_type": "code",
      "metadata": {
        "id": "_YTHz9-WNkNu"
      },
      "source": [
        "#create app\n",
        "from fastapi import FastAPI\n",
        "from fastapi.middleware.cors import CORSMiddleware\n",
        "import pickle\n",
        "\n",
        "app = FastAPI()\n",
        "\n",
        "origins = [\n",
        "\n",
        "    \"http://localhost.tiangolo.com\",\n",
        "\n",
        "    \"https://localhost.tiangolo.com\",\n",
        "\n",
        "    \"http://localhost:4200\",\n",
        "\n",
        "    \"http://localhost:8080\",\n",
        "\n",
        "]\n",
        "\n",
        "app.add_middleware(\n",
        "\n",
        "    CORSMiddleware,\n",
        "\n",
        "    allow_origins=origins,\n",
        "\n",
        "    allow_credentials=True,\n",
        "\n",
        "    allow_methods=[\"*\"],\n",
        "\n",
        "    allow_headers=[\"*\"],\n",
        "\n",
        ")\n",
        "\n",
        "@app.on_event(\"startup\")\n",
        "def load_model():\n",
        "    global model\n",
        "    model = pickle.load(open(\"save.pkl\", \"rb\"))\n",
        "\n",
        "@app.get('/')\n",
        "def index():\n",
        "    return {'message': 'This is the homepage of the API '}\n",
        "\n",
        "@app.post('/predict')\n",
        "def get_question_difficulty(data: Question):\n",
        "    received = data.dict()\n",
        "\n",
        "    ScoreOfQuestion = received['ScoreOfQuestion']\n",
        "    ViewCount = received['ViewCount']\n",
        "    NoOfAnswers = received['NoOfAnswers']\n",
        "    ScoreOfTheFirstAnswer = received['ScoreOfTheFirstAnswer']\n",
        "    FirstResponseTimeToTheQuestion = received['FirstResponseTimeToTheQuestion']/10000000\n",
        "\n",
        "    Proportionately_proportional=ScoreOfQuestion+2*FirstResponseTimeToTheQuestion\n",
        "    Inversely_proportional=ScoreOfTheFirstAnswer+2*NoOfAnswers+3*ViewCount\n",
        "\n",
        "    pred_difficulty_level = model.predict([[Proportionately_proportional, Inversely_proportional]]).tolist()[0]\n",
        "    if pred_difficulty_level == 0:\n",
        "      return {'difficulty_level': 'Basic'}\n",
        "    elif pred_difficulty_level == 1:\n",
        "      return {'difficulty_level': 'Advanced'}\n",
        "    else:\n",
        "      return {'difficulty_level': 'Intermediate'}\n",
        "\n",
        "    "
      ],
      "execution_count": 40,
      "outputs": []
    },
    {
      "cell_type": "code",
      "metadata": {
        "colab": {
          "base_uri": "https://localhost:8080/"
        },
        "id": "DyG-8ZsUPdmm",
        "outputId": "b3059d88-0423-458b-8a75-8a8e3d6cc1cb"
      },
      "source": [
        "#upgrade notebook\n",
        "!pip install --upgrade notebook"
      ],
      "execution_count": 41,
      "outputs": [
        {
          "output_type": "stream",
          "text": [
            "Requirement already up-to-date: notebook in /usr/local/lib/python3.7/dist-packages (6.4.0)\n",
            "Requirement already satisfied, skipping upgrade: argon2-cffi in /usr/local/lib/python3.7/dist-packages (from notebook) (20.1.0)\n",
            "Requirement already satisfied, skipping upgrade: jupyter-client>=5.3.4 in /usr/local/lib/python3.7/dist-packages (from notebook) (6.1.12)\n",
            "Requirement already satisfied, skipping upgrade: traitlets>=4.2.1 in /usr/local/lib/python3.7/dist-packages (from notebook) (5.0.5)\n",
            "Requirement already satisfied, skipping upgrade: jinja2 in /usr/local/lib/python3.7/dist-packages (from notebook) (2.11.3)\n",
            "Requirement already satisfied, skipping upgrade: jupyter-core>=4.6.1 in /usr/local/lib/python3.7/dist-packages (from notebook) (4.7.1)\n",
            "Requirement already satisfied, skipping upgrade: ipython-genutils in /usr/local/lib/python3.7/dist-packages (from notebook) (0.2.0)\n",
            "Requirement already satisfied, skipping upgrade: terminado>=0.8.3 in /usr/local/lib/python3.7/dist-packages (from notebook) (0.10.0)\n",
            "Requirement already satisfied, skipping upgrade: Send2Trash>=1.5.0 in /usr/local/lib/python3.7/dist-packages (from notebook) (1.5.0)\n",
            "Requirement already satisfied, skipping upgrade: pyzmq>=17 in /usr/local/lib/python3.7/dist-packages (from notebook) (22.0.3)\n",
            "Requirement already satisfied, skipping upgrade: ipykernel in /usr/local/lib/python3.7/dist-packages (from notebook) (4.10.1)\n",
            "Requirement already satisfied, skipping upgrade: tornado>=6.1 in /usr/local/lib/python3.7/dist-packages (from notebook) (6.1)\n",
            "Requirement already satisfied, skipping upgrade: nbconvert in /usr/local/lib/python3.7/dist-packages (from notebook) (5.6.1)\n",
            "Requirement already satisfied, skipping upgrade: prometheus-client in /usr/local/lib/python3.7/dist-packages (from notebook) (0.10.1)\n",
            "Requirement already satisfied, skipping upgrade: nbformat in /usr/local/lib/python3.7/dist-packages (from notebook) (5.1.3)\n",
            "Requirement already satisfied, skipping upgrade: cffi>=1.0.0 in /usr/local/lib/python3.7/dist-packages (from argon2-cffi->notebook) (1.14.5)\n",
            "Requirement already satisfied, skipping upgrade: six in /usr/local/lib/python3.7/dist-packages (from argon2-cffi->notebook) (1.15.0)\n",
            "Requirement already satisfied, skipping upgrade: python-dateutil>=2.1 in /usr/local/lib/python3.7/dist-packages (from jupyter-client>=5.3.4->notebook) (2.8.1)\n",
            "Requirement already satisfied, skipping upgrade: MarkupSafe>=0.23 in /usr/local/lib/python3.7/dist-packages (from jinja2->notebook) (2.0.1)\n",
            "Requirement already satisfied, skipping upgrade: ptyprocess; os_name != \"nt\" in /usr/local/lib/python3.7/dist-packages (from terminado>=0.8.3->notebook) (0.7.0)\n",
            "Requirement already satisfied, skipping upgrade: ipython>=4.0.0 in /usr/local/lib/python3.7/dist-packages (from ipykernel->notebook) (5.5.0)\n",
            "Requirement already satisfied, skipping upgrade: testpath in /usr/local/lib/python3.7/dist-packages (from nbconvert->notebook) (0.5.0)\n",
            "Requirement already satisfied, skipping upgrade: mistune<2,>=0.8.1 in /usr/local/lib/python3.7/dist-packages (from nbconvert->notebook) (0.8.4)\n",
            "Requirement already satisfied, skipping upgrade: pygments in /usr/local/lib/python3.7/dist-packages (from nbconvert->notebook) (2.6.1)\n",
            "Requirement already satisfied, skipping upgrade: entrypoints>=0.2.2 in /usr/local/lib/python3.7/dist-packages (from nbconvert->notebook) (0.3)\n",
            "Requirement already satisfied, skipping upgrade: pandocfilters>=1.4.1 in /usr/local/lib/python3.7/dist-packages (from nbconvert->notebook) (1.4.3)\n",
            "Requirement already satisfied, skipping upgrade: defusedxml in /usr/local/lib/python3.7/dist-packages (from nbconvert->notebook) (0.7.1)\n",
            "Requirement already satisfied, skipping upgrade: bleach in /usr/local/lib/python3.7/dist-packages (from nbconvert->notebook) (3.3.0)\n",
            "Requirement already satisfied, skipping upgrade: jsonschema!=2.5.0,>=2.4 in /usr/local/lib/python3.7/dist-packages (from nbformat->notebook) (3.2.0)\n",
            "Requirement already satisfied, skipping upgrade: pycparser in /usr/local/lib/python3.7/dist-packages (from cffi>=1.0.0->argon2-cffi->notebook) (2.20)\n",
            "Requirement already satisfied, skipping upgrade: pickleshare in /usr/local/lib/python3.7/dist-packages (from ipython>=4.0.0->ipykernel->notebook) (0.7.5)\n",
            "Requirement already satisfied, skipping upgrade: pexpect; sys_platform != \"win32\" in /usr/local/lib/python3.7/dist-packages (from ipython>=4.0.0->ipykernel->notebook) (4.8.0)\n",
            "Requirement already satisfied, skipping upgrade: decorator in /usr/local/lib/python3.7/dist-packages (from ipython>=4.0.0->ipykernel->notebook) (4.4.2)\n",
            "Requirement already satisfied, skipping upgrade: setuptools>=18.5 in /usr/local/lib/python3.7/dist-packages (from ipython>=4.0.0->ipykernel->notebook) (57.0.0)\n",
            "Requirement already satisfied, skipping upgrade: prompt-toolkit<2.0.0,>=1.0.4 in /usr/local/lib/python3.7/dist-packages (from ipython>=4.0.0->ipykernel->notebook) (1.0.18)\n",
            "Requirement already satisfied, skipping upgrade: simplegeneric>0.8 in /usr/local/lib/python3.7/dist-packages (from ipython>=4.0.0->ipykernel->notebook) (0.8.1)\n",
            "Requirement already satisfied, skipping upgrade: webencodings in /usr/local/lib/python3.7/dist-packages (from bleach->nbconvert->notebook) (0.5.1)\n",
            "Requirement already satisfied, skipping upgrade: packaging in /usr/local/lib/python3.7/dist-packages (from bleach->nbconvert->notebook) (20.9)\n",
            "Requirement already satisfied, skipping upgrade: importlib-metadata; python_version < \"3.8\" in /usr/local/lib/python3.7/dist-packages (from jsonschema!=2.5.0,>=2.4->nbformat->notebook) (4.0.1)\n",
            "Requirement already satisfied, skipping upgrade: attrs>=17.4.0 in /usr/local/lib/python3.7/dist-packages (from jsonschema!=2.5.0,>=2.4->nbformat->notebook) (21.2.0)\n",
            "Requirement already satisfied, skipping upgrade: pyrsistent>=0.14.0 in /usr/local/lib/python3.7/dist-packages (from jsonschema!=2.5.0,>=2.4->nbformat->notebook) (0.17.3)\n",
            "Requirement already satisfied, skipping upgrade: wcwidth in /usr/local/lib/python3.7/dist-packages (from prompt-toolkit<2.0.0,>=1.0.4->ipython>=4.0.0->ipykernel->notebook) (0.2.5)\n",
            "Requirement already satisfied, skipping upgrade: pyparsing>=2.0.2 in /usr/local/lib/python3.7/dist-packages (from packaging->bleach->nbconvert->notebook) (2.4.7)\n",
            "Requirement already satisfied, skipping upgrade: zipp>=0.5 in /usr/local/lib/python3.7/dist-packages (from importlib-metadata; python_version < \"3.8\"->jsonschema!=2.5.0,>=2.4->nbformat->notebook) (3.4.1)\n",
            "Requirement already satisfied, skipping upgrade: typing-extensions>=3.6.4; python_version < \"3.8\" in /usr/local/lib/python3.7/dist-packages (from importlib-metadata; python_version < \"3.8\"->jsonschema!=2.5.0,>=2.4->nbformat->notebook) (3.7.4.3)\n"
          ],
          "name": "stdout"
        }
      ]
    },
    {
      "cell_type": "code",
      "metadata": {
        "colab": {
          "base_uri": "https://localhost:8080/"
        },
        "id": "JGc4o3L9OcOi",
        "outputId": "18b279dc-1d4e-44a9-afc9-0d8571be3e39"
      },
      "source": [
        "#install colab code\n",
        "!pip install colabcode"
      ],
      "execution_count": 42,
      "outputs": [
        {
          "output_type": "stream",
          "text": [
            "Requirement already satisfied: colabcode in /usr/local/lib/python3.7/dist-packages (0.2.0)\n",
            "Requirement already satisfied: uvicorn==0.13.1 in /usr/local/lib/python3.7/dist-packages (from colabcode) (0.13.1)\n",
            "Requirement already satisfied: jupyterlab==3.0.7 in /usr/local/lib/python3.7/dist-packages (from colabcode) (3.0.7)\n",
            "Requirement already satisfied: pyngrok>=5.0.0 in /usr/local/lib/python3.7/dist-packages (from colabcode) (5.0.5)\n",
            "Requirement already satisfied: nest-asyncio==1.4.3 in /usr/local/lib/python3.7/dist-packages (from colabcode) (1.4.3)\n",
            "Requirement already satisfied: h11>=0.8 in /usr/local/lib/python3.7/dist-packages (from uvicorn==0.13.1->colabcode) (0.12.0)\n",
            "Requirement already satisfied: click==7.* in /usr/local/lib/python3.7/dist-packages (from uvicorn==0.13.1->colabcode) (7.1.2)\n",
            "Requirement already satisfied: typing-extensions; python_version < \"3.8\" in /usr/local/lib/python3.7/dist-packages (from uvicorn==0.13.1->colabcode) (3.7.4.3)\n",
            "Requirement already satisfied: tornado>=6.1.0 in /usr/local/lib/python3.7/dist-packages (from jupyterlab==3.0.7->colabcode) (6.1)\n",
            "Requirement already satisfied: nbclassic~=0.2 in /usr/local/lib/python3.7/dist-packages (from jupyterlab==3.0.7->colabcode) (0.3.1)\n",
            "Requirement already satisfied: jinja2>=2.10 in /usr/local/lib/python3.7/dist-packages (from jupyterlab==3.0.7->colabcode) (2.11.3)\n",
            "Requirement already satisfied: jupyterlab-server~=2.0 in /usr/local/lib/python3.7/dist-packages (from jupyterlab==3.0.7->colabcode) (2.6.0)\n",
            "Requirement already satisfied: jupyter-server~=1.2 in /usr/local/lib/python3.7/dist-packages (from jupyterlab==3.0.7->colabcode) (1.8.0)\n",
            "Requirement already satisfied: packaging in /usr/local/lib/python3.7/dist-packages (from jupyterlab==3.0.7->colabcode) (20.9)\n",
            "Requirement already satisfied: jupyter-core in /usr/local/lib/python3.7/dist-packages (from jupyterlab==3.0.7->colabcode) (4.7.1)\n",
            "Requirement already satisfied: ipython in /usr/local/lib/python3.7/dist-packages (from jupyterlab==3.0.7->colabcode) (5.5.0)\n",
            "Requirement already satisfied: PyYAML in /usr/local/lib/python3.7/dist-packages (from pyngrok>=5.0.0->colabcode) (3.13)\n",
            "Requirement already satisfied: notebook<7 in /usr/local/lib/python3.7/dist-packages (from nbclassic~=0.2->jupyterlab==3.0.7->colabcode) (6.4.0)\n",
            "Requirement already satisfied: MarkupSafe>=0.23 in /usr/local/lib/python3.7/dist-packages (from jinja2>=2.10->jupyterlab==3.0.7->colabcode) (2.0.1)\n",
            "Requirement already satisfied: json5 in /usr/local/lib/python3.7/dist-packages (from jupyterlab-server~=2.0->jupyterlab==3.0.7->colabcode) (0.9.5)\n",
            "Requirement already satisfied: requests in /usr/local/lib/python3.7/dist-packages (from jupyterlab-server~=2.0->jupyterlab==3.0.7->colabcode) (2.23.0)\n",
            "Requirement already satisfied: jsonschema>=3.0.1 in /usr/local/lib/python3.7/dist-packages (from jupyterlab-server~=2.0->jupyterlab==3.0.7->colabcode) (3.2.0)\n",
            "Requirement already satisfied: babel in /usr/local/lib/python3.7/dist-packages (from jupyterlab-server~=2.0->jupyterlab==3.0.7->colabcode) (2.9.1)\n",
            "Requirement already satisfied: nbconvert in /usr/local/lib/python3.7/dist-packages (from jupyter-server~=1.2->jupyterlab==3.0.7->colabcode) (5.6.1)\n",
            "Requirement already satisfied: prometheus-client in /usr/local/lib/python3.7/dist-packages (from jupyter-server~=1.2->jupyterlab==3.0.7->colabcode) (0.10.1)\n",
            "Requirement already satisfied: Send2Trash in /usr/local/lib/python3.7/dist-packages (from jupyter-server~=1.2->jupyterlab==3.0.7->colabcode) (1.5.0)\n",
            "Requirement already satisfied: argon2-cffi in /usr/local/lib/python3.7/dist-packages (from jupyter-server~=1.2->jupyterlab==3.0.7->colabcode) (20.1.0)\n",
            "Requirement already satisfied: pyzmq>=17 in /usr/local/lib/python3.7/dist-packages (from jupyter-server~=1.2->jupyterlab==3.0.7->colabcode) (22.0.3)\n",
            "Requirement already satisfied: nbformat in /usr/local/lib/python3.7/dist-packages (from jupyter-server~=1.2->jupyterlab==3.0.7->colabcode) (5.1.3)\n",
            "Requirement already satisfied: terminado>=0.8.3 in /usr/local/lib/python3.7/dist-packages (from jupyter-server~=1.2->jupyterlab==3.0.7->colabcode) (0.10.0)\n",
            "Requirement already satisfied: anyio<4,>=3.1.0 in /usr/local/lib/python3.7/dist-packages (from jupyter-server~=1.2->jupyterlab==3.0.7->colabcode) (3.1.0)\n",
            "Requirement already satisfied: websocket-client in /usr/local/lib/python3.7/dist-packages (from jupyter-server~=1.2->jupyterlab==3.0.7->colabcode) (1.0.1)\n",
            "Requirement already satisfied: ipython-genutils in /usr/local/lib/python3.7/dist-packages (from jupyter-server~=1.2->jupyterlab==3.0.7->colabcode) (0.2.0)\n",
            "Requirement already satisfied: jupyter-client>=6.1.1 in /usr/local/lib/python3.7/dist-packages (from jupyter-server~=1.2->jupyterlab==3.0.7->colabcode) (6.1.12)\n",
            "Requirement already satisfied: traitlets>=4.2.1 in /usr/local/lib/python3.7/dist-packages (from jupyter-server~=1.2->jupyterlab==3.0.7->colabcode) (5.0.5)\n",
            "Requirement already satisfied: pyparsing>=2.0.2 in /usr/local/lib/python3.7/dist-packages (from packaging->jupyterlab==3.0.7->colabcode) (2.4.7)\n",
            "Requirement already satisfied: simplegeneric>0.8 in /usr/local/lib/python3.7/dist-packages (from ipython->jupyterlab==3.0.7->colabcode) (0.8.1)\n",
            "Requirement already satisfied: decorator in /usr/local/lib/python3.7/dist-packages (from ipython->jupyterlab==3.0.7->colabcode) (4.4.2)\n",
            "Requirement already satisfied: pickleshare in /usr/local/lib/python3.7/dist-packages (from ipython->jupyterlab==3.0.7->colabcode) (0.7.5)\n",
            "Requirement already satisfied: pygments in /usr/local/lib/python3.7/dist-packages (from ipython->jupyterlab==3.0.7->colabcode) (2.6.1)\n",
            "Requirement already satisfied: setuptools>=18.5 in /usr/local/lib/python3.7/dist-packages (from ipython->jupyterlab==3.0.7->colabcode) (57.0.0)\n",
            "Requirement already satisfied: pexpect; sys_platform != \"win32\" in /usr/local/lib/python3.7/dist-packages (from ipython->jupyterlab==3.0.7->colabcode) (4.8.0)\n",
            "Requirement already satisfied: prompt-toolkit<2.0.0,>=1.0.4 in /usr/local/lib/python3.7/dist-packages (from ipython->jupyterlab==3.0.7->colabcode) (1.0.18)\n",
            "Requirement already satisfied: ipykernel in /usr/local/lib/python3.7/dist-packages (from notebook<7->nbclassic~=0.2->jupyterlab==3.0.7->colabcode) (4.10.1)\n",
            "Requirement already satisfied: idna<3,>=2.5 in /usr/local/lib/python3.7/dist-packages (from requests->jupyterlab-server~=2.0->jupyterlab==3.0.7->colabcode) (2.10)\n",
            "Requirement already satisfied: urllib3!=1.25.0,!=1.25.1,<1.26,>=1.21.1 in /usr/local/lib/python3.7/dist-packages (from requests->jupyterlab-server~=2.0->jupyterlab==3.0.7->colabcode) (1.24.3)\n",
            "Requirement already satisfied: certifi>=2017.4.17 in /usr/local/lib/python3.7/dist-packages (from requests->jupyterlab-server~=2.0->jupyterlab==3.0.7->colabcode) (2020.12.5)\n",
            "Requirement already satisfied: chardet<4,>=3.0.2 in /usr/local/lib/python3.7/dist-packages (from requests->jupyterlab-server~=2.0->jupyterlab==3.0.7->colabcode) (3.0.4)\n",
            "Requirement already satisfied: pyrsistent>=0.14.0 in /usr/local/lib/python3.7/dist-packages (from jsonschema>=3.0.1->jupyterlab-server~=2.0->jupyterlab==3.0.7->colabcode) (0.17.3)\n",
            "Requirement already satisfied: importlib-metadata; python_version < \"3.8\" in /usr/local/lib/python3.7/dist-packages (from jsonschema>=3.0.1->jupyterlab-server~=2.0->jupyterlab==3.0.7->colabcode) (4.0.1)\n",
            "Requirement already satisfied: six>=1.11.0 in /usr/local/lib/python3.7/dist-packages (from jsonschema>=3.0.1->jupyterlab-server~=2.0->jupyterlab==3.0.7->colabcode) (1.15.0)\n",
            "Requirement already satisfied: attrs>=17.4.0 in /usr/local/lib/python3.7/dist-packages (from jsonschema>=3.0.1->jupyterlab-server~=2.0->jupyterlab==3.0.7->colabcode) (21.2.0)\n",
            "Requirement already satisfied: pytz>=2015.7 in /usr/local/lib/python3.7/dist-packages (from babel->jupyterlab-server~=2.0->jupyterlab==3.0.7->colabcode) (2018.9)\n",
            "Requirement already satisfied: defusedxml in /usr/local/lib/python3.7/dist-packages (from nbconvert->jupyter-server~=1.2->jupyterlab==3.0.7->colabcode) (0.7.1)\n",
            "Requirement already satisfied: entrypoints>=0.2.2 in /usr/local/lib/python3.7/dist-packages (from nbconvert->jupyter-server~=1.2->jupyterlab==3.0.7->colabcode) (0.3)\n",
            "Requirement already satisfied: pandocfilters>=1.4.1 in /usr/local/lib/python3.7/dist-packages (from nbconvert->jupyter-server~=1.2->jupyterlab==3.0.7->colabcode) (1.4.3)\n",
            "Requirement already satisfied: mistune<2,>=0.8.1 in /usr/local/lib/python3.7/dist-packages (from nbconvert->jupyter-server~=1.2->jupyterlab==3.0.7->colabcode) (0.8.4)\n",
            "Requirement already satisfied: bleach in /usr/local/lib/python3.7/dist-packages (from nbconvert->jupyter-server~=1.2->jupyterlab==3.0.7->colabcode) (3.3.0)\n",
            "Requirement already satisfied: testpath in /usr/local/lib/python3.7/dist-packages (from nbconvert->jupyter-server~=1.2->jupyterlab==3.0.7->colabcode) (0.5.0)\n",
            "Requirement already satisfied: cffi>=1.0.0 in /usr/local/lib/python3.7/dist-packages (from argon2-cffi->jupyter-server~=1.2->jupyterlab==3.0.7->colabcode) (1.14.5)\n",
            "Requirement already satisfied: ptyprocess; os_name != \"nt\" in /usr/local/lib/python3.7/dist-packages (from terminado>=0.8.3->jupyter-server~=1.2->jupyterlab==3.0.7->colabcode) (0.7.0)\n",
            "Requirement already satisfied: sniffio>=1.1 in /usr/local/lib/python3.7/dist-packages (from anyio<4,>=3.1.0->jupyter-server~=1.2->jupyterlab==3.0.7->colabcode) (1.2.0)\n",
            "Requirement already satisfied: python-dateutil>=2.1 in /usr/local/lib/python3.7/dist-packages (from jupyter-client>=6.1.1->jupyter-server~=1.2->jupyterlab==3.0.7->colabcode) (2.8.1)\n",
            "Requirement already satisfied: wcwidth in /usr/local/lib/python3.7/dist-packages (from prompt-toolkit<2.0.0,>=1.0.4->ipython->jupyterlab==3.0.7->colabcode) (0.2.5)\n",
            "Requirement already satisfied: zipp>=0.5 in /usr/local/lib/python3.7/dist-packages (from importlib-metadata; python_version < \"3.8\"->jsonschema>=3.0.1->jupyterlab-server~=2.0->jupyterlab==3.0.7->colabcode) (3.4.1)\n",
            "Requirement already satisfied: webencodings in /usr/local/lib/python3.7/dist-packages (from bleach->nbconvert->jupyter-server~=1.2->jupyterlab==3.0.7->colabcode) (0.5.1)\n",
            "Requirement already satisfied: pycparser in /usr/local/lib/python3.7/dist-packages (from cffi>=1.0.0->argon2-cffi->jupyter-server~=1.2->jupyterlab==3.0.7->colabcode) (2.20)\n"
          ],
          "name": "stdout"
        }
      ]
    },
    {
      "cell_type": "code",
      "metadata": {
        "id": "fm9VMvJCORfV"
      },
      "source": [
        "#create server\n",
        "from colabcode import ColabCode\n",
        "server = ColabCode(port=10000, code=False)"
      ],
      "execution_count": 43,
      "outputs": []
    },
    {
      "cell_type": "code",
      "metadata": {
        "colab": {
          "base_uri": "https://localhost:8080/",
          "height": 185
        },
        "id": "i2jiqTooPxeR",
        "outputId": "efacc59f-9e1b-49dc-fa33-199a898da1fd"
      },
      "source": [
        "#run server\n",
        "server.run_app(app=app)"
      ],
      "execution_count": 2,
      "outputs": [
        {
          "output_type": "error",
          "ename": "NameError",
          "evalue": "ignored",
          "traceback": [
            "\u001b[0;31m---------------------------------------------------------------------------\u001b[0m",
            "\u001b[0;31mNameError\u001b[0m                                 Traceback (most recent call last)",
            "\u001b[0;32m<ipython-input-2-ecdde9995fbe>\u001b[0m in \u001b[0;36m<module>\u001b[0;34m()\u001b[0m\n\u001b[1;32m      1\u001b[0m \u001b[0;31m#run server\u001b[0m\u001b[0;34m\u001b[0m\u001b[0;34m\u001b[0m\u001b[0;34m\u001b[0m\u001b[0m\n\u001b[0;32m----> 2\u001b[0;31m \u001b[0mserver\u001b[0m\u001b[0;34m.\u001b[0m\u001b[0mrun_app\u001b[0m\u001b[0;34m(\u001b[0m\u001b[0mapp\u001b[0m\u001b[0;34m=\u001b[0m\u001b[0mapp\u001b[0m\u001b[0;34m)\u001b[0m\u001b[0;34m\u001b[0m\u001b[0;34m\u001b[0m\u001b[0m\n\u001b[0m",
            "\u001b[0;31mNameError\u001b[0m: name 'server' is not defined"
          ]
        }
      ]
    }
  ]
}